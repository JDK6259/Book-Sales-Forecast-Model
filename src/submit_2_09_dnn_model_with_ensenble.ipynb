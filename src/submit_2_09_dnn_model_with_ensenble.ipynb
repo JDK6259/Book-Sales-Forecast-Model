{
 "cells": [
  {
   "cell_type": "markdown",
   "metadata": {},
   "source": [
    "# DNN Based Models"
   ]
  },
  {
   "cell_type": "markdown",
   "metadata": {},
   "source": [
    "#### Import modules"
   ]
  },
  {
   "cell_type": "code",
   "execution_count": 1,
   "metadata": {},
   "outputs": [
    {
     "name": "stdout",
     "output_type": "stream",
     "text": [
      "2.3.1\n"
     ]
    }
   ],
   "source": [
    "import pandas as pd\n",
    "import numpy as np\n",
    "import os\n",
    "import random\n",
    "import pickle\n",
    "from tqdm import tqdm\n",
    "from IPython.display import Image\n",
    "import seaborn as sns\n",
    "import matplotlib.pylab as plt\n",
    "from matplotlib import font_manager, rc\n",
    "%matplotlib inline\n",
    "from sklearn.preprocessing import StandardScaler\n",
    "\n",
    "import tensorflow as tf\n",
    "from tensorflow import keras\n",
    "import keras.backend as K\n",
    "\n",
    "print(tf.__version__)"
   ]
  },
  {
   "cell_type": "markdown",
   "metadata": {},
   "source": [
    "#### Set random seeds to make your results reproducible"
   ]
  },
  {
   "cell_type": "code",
   "execution_count": 2,
   "metadata": {},
   "outputs": [
    {
     "name": "stdout",
     "output_type": "stream",
     "text": [
      "RANDOM SEEDS RESET\n"
     ]
    }
   ],
   "source": [
    "# 매번 모델링을 할 때마다 동일한 결과를 얻으려면 아래 코드를 실행해야 함.\n",
    "\n",
    "def reset_seeds(seed, reset_graph_with_backend=None):\n",
    "    if reset_graph_with_backend is not None:\n",
    "        K = reset_graph_with_backend\n",
    "        K.clear_session()\n",
    "        tf.compat.v1.reset_default_graph()\n",
    "        print(\"KERAS AND TENSORFLOW GRAPHS RESET\")  # optional\n",
    "\n",
    "    np.random.seed(seed)\n",
    "    random.seed(seed)\n",
    "    tf.compat.v1.set_random_seed(seed)\n",
    "    os.environ['CUDA_VISIBLE_DEVICES'] = ''  # for GPU\n",
    "    print(\"RANDOM SEEDS RESET\")  # optional\n",
    "   \n",
    "reset_seeds(1)"
   ]
  },
  {
   "cell_type": "markdown",
   "metadata": {},
   "source": [
    "### Load Data"
   ]
  },
  {
   "cell_type": "code",
   "execution_count": 3,
   "metadata": {
    "_uuid": "f0a1c729d4fb3d6609f9dfb163ebe92fa9dc654c"
   },
   "outputs": [
    {
     "data": {
      "text/html": [
       "<div>\n",
       "<style scoped>\n",
       "    .dataframe tbody tr th:only-of-type {\n",
       "        vertical-align: middle;\n",
       "    }\n",
       "\n",
       "    .dataframe tbody tr th {\n",
       "        vertical-align: top;\n",
       "    }\n",
       "\n",
       "    .dataframe thead th {\n",
       "        text-align: right;\n",
       "    }\n",
       "</style>\n",
       "<table border=\"1\" class=\"dataframe\">\n",
       "  <thead>\n",
       "    <tr style=\"text-align: right;\">\n",
       "      <th></th>\n",
       "      <th>month</th>\n",
       "      <th>item_cnt_month_lag_1</th>\n",
       "      <th>item_cnt_week6_lag_1</th>\n",
       "      <th>week2_avg_item_cnt_lag_2</th>\n",
       "      <th>item_cnt_month_lag_4</th>\n",
       "      <th>week2_avg_item_cnt_lag_6</th>\n",
       "      <th>week4_avg_item_cnt_lag_4</th>\n",
       "      <th>month_avg_item_cnt_lag_4</th>\n",
       "      <th>week4_avg_item_cnt_lag_3</th>\n",
       "      <th>item_cnt_month_lag_5</th>\n",
       "      <th>...</th>\n",
       "      <th>category_국내문학</th>\n",
       "      <th>week1_avg_item_cnt_lag_5</th>\n",
       "      <th>item_cnt_month_lag_6</th>\n",
       "      <th>week6_cat_avg_item_cnt_lag_1</th>\n",
       "      <th>category_자기계발</th>\n",
       "      <th>week3_cat_avg_item_cnt_lag_1</th>\n",
       "      <th>week5_cat_avg_item_cnt_lag_1</th>\n",
       "      <th>category_만화/라이트노벨</th>\n",
       "      <th>item_cnt_month</th>\n",
       "      <th>item_cnt_month</th>\n",
       "    </tr>\n",
       "  </thead>\n",
       "  <tbody>\n",
       "    <tr>\n",
       "      <th>0</th>\n",
       "      <td>7</td>\n",
       "      <td>0.0</td>\n",
       "      <td>0.0</td>\n",
       "      <td>0.393939</td>\n",
       "      <td>0.0</td>\n",
       "      <td>0.0</td>\n",
       "      <td>0.000000</td>\n",
       "      <td>0.00000</td>\n",
       "      <td>0.0</td>\n",
       "      <td>0.0</td>\n",
       "      <td>...</td>\n",
       "      <td>0</td>\n",
       "      <td>0.0</td>\n",
       "      <td>0.0</td>\n",
       "      <td>0.0</td>\n",
       "      <td>0</td>\n",
       "      <td>0.0</td>\n",
       "      <td>0.0</td>\n",
       "      <td>0</td>\n",
       "      <td>1.0</td>\n",
       "      <td>1.0</td>\n",
       "    </tr>\n",
       "    <tr>\n",
       "      <th>1</th>\n",
       "      <td>7</td>\n",
       "      <td>0.0</td>\n",
       "      <td>0.0</td>\n",
       "      <td>0.000000</td>\n",
       "      <td>0.0</td>\n",
       "      <td>0.0</td>\n",
       "      <td>0.000000</td>\n",
       "      <td>0.00000</td>\n",
       "      <td>0.0</td>\n",
       "      <td>0.0</td>\n",
       "      <td>...</td>\n",
       "      <td>0</td>\n",
       "      <td>0.0</td>\n",
       "      <td>0.0</td>\n",
       "      <td>0.0</td>\n",
       "      <td>0</td>\n",
       "      <td>0.0</td>\n",
       "      <td>0.0</td>\n",
       "      <td>0</td>\n",
       "      <td>7.0</td>\n",
       "      <td>7.0</td>\n",
       "    </tr>\n",
       "    <tr>\n",
       "      <th>2</th>\n",
       "      <td>7</td>\n",
       "      <td>0.0</td>\n",
       "      <td>0.0</td>\n",
       "      <td>0.000000</td>\n",
       "      <td>0.0</td>\n",
       "      <td>0.0</td>\n",
       "      <td>0.000000</td>\n",
       "      <td>0.00000</td>\n",
       "      <td>0.0</td>\n",
       "      <td>0.0</td>\n",
       "      <td>...</td>\n",
       "      <td>0</td>\n",
       "      <td>0.0</td>\n",
       "      <td>0.0</td>\n",
       "      <td>0.0</td>\n",
       "      <td>0</td>\n",
       "      <td>0.0</td>\n",
       "      <td>0.0</td>\n",
       "      <td>0</td>\n",
       "      <td>1.0</td>\n",
       "      <td>1.0</td>\n",
       "    </tr>\n",
       "    <tr>\n",
       "      <th>3</th>\n",
       "      <td>7</td>\n",
       "      <td>0.0</td>\n",
       "      <td>0.0</td>\n",
       "      <td>0.000000</td>\n",
       "      <td>1.0</td>\n",
       "      <td>0.0</td>\n",
       "      <td>0.384352</td>\n",
       "      <td>2.16449</td>\n",
       "      <td>0.0</td>\n",
       "      <td>0.0</td>\n",
       "      <td>...</td>\n",
       "      <td>0</td>\n",
       "      <td>0.0</td>\n",
       "      <td>0.0</td>\n",
       "      <td>0.0</td>\n",
       "      <td>0</td>\n",
       "      <td>0.0</td>\n",
       "      <td>0.0</td>\n",
       "      <td>0</td>\n",
       "      <td>1.0</td>\n",
       "      <td>1.0</td>\n",
       "    </tr>\n",
       "    <tr>\n",
       "      <th>4</th>\n",
       "      <td>7</td>\n",
       "      <td>0.0</td>\n",
       "      <td>0.0</td>\n",
       "      <td>0.000000</td>\n",
       "      <td>0.0</td>\n",
       "      <td>0.0</td>\n",
       "      <td>0.000000</td>\n",
       "      <td>0.00000</td>\n",
       "      <td>0.0</td>\n",
       "      <td>0.0</td>\n",
       "      <td>...</td>\n",
       "      <td>0</td>\n",
       "      <td>0.0</td>\n",
       "      <td>0.0</td>\n",
       "      <td>0.0</td>\n",
       "      <td>0</td>\n",
       "      <td>0.0</td>\n",
       "      <td>0.0</td>\n",
       "      <td>0</td>\n",
       "      <td>1.0</td>\n",
       "      <td>1.0</td>\n",
       "    </tr>\n",
       "    <tr>\n",
       "      <th>...</th>\n",
       "      <td>...</td>\n",
       "      <td>...</td>\n",
       "      <td>...</td>\n",
       "      <td>...</td>\n",
       "      <td>...</td>\n",
       "      <td>...</td>\n",
       "      <td>...</td>\n",
       "      <td>...</td>\n",
       "      <td>...</td>\n",
       "      <td>...</td>\n",
       "      <td>...</td>\n",
       "      <td>...</td>\n",
       "      <td>...</td>\n",
       "      <td>...</td>\n",
       "      <td>...</td>\n",
       "      <td>...</td>\n",
       "      <td>...</td>\n",
       "      <td>...</td>\n",
       "      <td>...</td>\n",
       "      <td>...</td>\n",
       "      <td>...</td>\n",
       "    </tr>\n",
       "    <tr>\n",
       "      <th>118342</th>\n",
       "      <td>12</td>\n",
       "      <td>0.0</td>\n",
       "      <td>0.0</td>\n",
       "      <td>0.000000</td>\n",
       "      <td>0.0</td>\n",
       "      <td>0.0</td>\n",
       "      <td>0.000000</td>\n",
       "      <td>0.00000</td>\n",
       "      <td>0.0</td>\n",
       "      <td>0.0</td>\n",
       "      <td>...</td>\n",
       "      <td>0</td>\n",
       "      <td>0.0</td>\n",
       "      <td>0.0</td>\n",
       "      <td>0.0</td>\n",
       "      <td>0</td>\n",
       "      <td>0.0</td>\n",
       "      <td>0.0</td>\n",
       "      <td>0</td>\n",
       "      <td>0.0</td>\n",
       "      <td>0.0</td>\n",
       "    </tr>\n",
       "    <tr>\n",
       "      <th>118343</th>\n",
       "      <td>12</td>\n",
       "      <td>0.0</td>\n",
       "      <td>0.0</td>\n",
       "      <td>0.000000</td>\n",
       "      <td>0.0</td>\n",
       "      <td>0.0</td>\n",
       "      <td>0.000000</td>\n",
       "      <td>0.00000</td>\n",
       "      <td>0.0</td>\n",
       "      <td>0.0</td>\n",
       "      <td>...</td>\n",
       "      <td>0</td>\n",
       "      <td>0.0</td>\n",
       "      <td>0.0</td>\n",
       "      <td>0.0</td>\n",
       "      <td>0</td>\n",
       "      <td>0.0</td>\n",
       "      <td>0.0</td>\n",
       "      <td>0</td>\n",
       "      <td>0.0</td>\n",
       "      <td>0.0</td>\n",
       "    </tr>\n",
       "    <tr>\n",
       "      <th>118344</th>\n",
       "      <td>12</td>\n",
       "      <td>0.0</td>\n",
       "      <td>0.0</td>\n",
       "      <td>0.000000</td>\n",
       "      <td>0.0</td>\n",
       "      <td>0.0</td>\n",
       "      <td>0.000000</td>\n",
       "      <td>0.00000</td>\n",
       "      <td>0.0</td>\n",
       "      <td>0.0</td>\n",
       "      <td>...</td>\n",
       "      <td>0</td>\n",
       "      <td>0.0</td>\n",
       "      <td>0.0</td>\n",
       "      <td>0.0</td>\n",
       "      <td>0</td>\n",
       "      <td>0.0</td>\n",
       "      <td>0.0</td>\n",
       "      <td>0</td>\n",
       "      <td>0.0</td>\n",
       "      <td>0.0</td>\n",
       "    </tr>\n",
       "    <tr>\n",
       "      <th>118345</th>\n",
       "      <td>12</td>\n",
       "      <td>0.0</td>\n",
       "      <td>0.0</td>\n",
       "      <td>0.000000</td>\n",
       "      <td>0.0</td>\n",
       "      <td>0.0</td>\n",
       "      <td>0.000000</td>\n",
       "      <td>0.00000</td>\n",
       "      <td>0.0</td>\n",
       "      <td>0.0</td>\n",
       "      <td>...</td>\n",
       "      <td>0</td>\n",
       "      <td>0.0</td>\n",
       "      <td>0.0</td>\n",
       "      <td>0.0</td>\n",
       "      <td>0</td>\n",
       "      <td>0.0</td>\n",
       "      <td>0.0</td>\n",
       "      <td>0</td>\n",
       "      <td>0.0</td>\n",
       "      <td>0.0</td>\n",
       "    </tr>\n",
       "    <tr>\n",
       "      <th>118346</th>\n",
       "      <td>12</td>\n",
       "      <td>0.0</td>\n",
       "      <td>0.0</td>\n",
       "      <td>0.000000</td>\n",
       "      <td>0.0</td>\n",
       "      <td>0.0</td>\n",
       "      <td>0.000000</td>\n",
       "      <td>0.00000</td>\n",
       "      <td>0.0</td>\n",
       "      <td>0.0</td>\n",
       "      <td>...</td>\n",
       "      <td>0</td>\n",
       "      <td>0.0</td>\n",
       "      <td>0.0</td>\n",
       "      <td>0.0</td>\n",
       "      <td>0</td>\n",
       "      <td>0.0</td>\n",
       "      <td>0.0</td>\n",
       "      <td>0</td>\n",
       "      <td>0.0</td>\n",
       "      <td>0.0</td>\n",
       "    </tr>\n",
       "  </tbody>\n",
       "</table>\n",
       "<p>118347 rows × 33 columns</p>\n",
       "</div>"
      ],
      "text/plain": [
       "        month  item_cnt_month_lag_1  item_cnt_week6_lag_1  \\\n",
       "0           7                   0.0                   0.0   \n",
       "1           7                   0.0                   0.0   \n",
       "2           7                   0.0                   0.0   \n",
       "3           7                   0.0                   0.0   \n",
       "4           7                   0.0                   0.0   \n",
       "...       ...                   ...                   ...   \n",
       "118342     12                   0.0                   0.0   \n",
       "118343     12                   0.0                   0.0   \n",
       "118344     12                   0.0                   0.0   \n",
       "118345     12                   0.0                   0.0   \n",
       "118346     12                   0.0                   0.0   \n",
       "\n",
       "        week2_avg_item_cnt_lag_2  item_cnt_month_lag_4  \\\n",
       "0                       0.393939                   0.0   \n",
       "1                       0.000000                   0.0   \n",
       "2                       0.000000                   0.0   \n",
       "3                       0.000000                   1.0   \n",
       "4                       0.000000                   0.0   \n",
       "...                          ...                   ...   \n",
       "118342                  0.000000                   0.0   \n",
       "118343                  0.000000                   0.0   \n",
       "118344                  0.000000                   0.0   \n",
       "118345                  0.000000                   0.0   \n",
       "118346                  0.000000                   0.0   \n",
       "\n",
       "        week2_avg_item_cnt_lag_6  week4_avg_item_cnt_lag_4  \\\n",
       "0                            0.0                  0.000000   \n",
       "1                            0.0                  0.000000   \n",
       "2                            0.0                  0.000000   \n",
       "3                            0.0                  0.384352   \n",
       "4                            0.0                  0.000000   \n",
       "...                          ...                       ...   \n",
       "118342                       0.0                  0.000000   \n",
       "118343                       0.0                  0.000000   \n",
       "118344                       0.0                  0.000000   \n",
       "118345                       0.0                  0.000000   \n",
       "118346                       0.0                  0.000000   \n",
       "\n",
       "        month_avg_item_cnt_lag_4  week4_avg_item_cnt_lag_3  \\\n",
       "0                        0.00000                       0.0   \n",
       "1                        0.00000                       0.0   \n",
       "2                        0.00000                       0.0   \n",
       "3                        2.16449                       0.0   \n",
       "4                        0.00000                       0.0   \n",
       "...                          ...                       ...   \n",
       "118342                   0.00000                       0.0   \n",
       "118343                   0.00000                       0.0   \n",
       "118344                   0.00000                       0.0   \n",
       "118345                   0.00000                       0.0   \n",
       "118346                   0.00000                       0.0   \n",
       "\n",
       "        item_cnt_month_lag_5  ...  category_국내문학  week1_avg_item_cnt_lag_5  \\\n",
       "0                        0.0  ...              0                       0.0   \n",
       "1                        0.0  ...              0                       0.0   \n",
       "2                        0.0  ...              0                       0.0   \n",
       "3                        0.0  ...              0                       0.0   \n",
       "4                        0.0  ...              0                       0.0   \n",
       "...                      ...  ...            ...                       ...   \n",
       "118342                   0.0  ...              0                       0.0   \n",
       "118343                   0.0  ...              0                       0.0   \n",
       "118344                   0.0  ...              0                       0.0   \n",
       "118345                   0.0  ...              0                       0.0   \n",
       "118346                   0.0  ...              0                       0.0   \n",
       "\n",
       "        item_cnt_month_lag_6  week6_cat_avg_item_cnt_lag_1  category_자기계발  \\\n",
       "0                        0.0                           0.0              0   \n",
       "1                        0.0                           0.0              0   \n",
       "2                        0.0                           0.0              0   \n",
       "3                        0.0                           0.0              0   \n",
       "4                        0.0                           0.0              0   \n",
       "...                      ...                           ...            ...   \n",
       "118342                   0.0                           0.0              0   \n",
       "118343                   0.0                           0.0              0   \n",
       "118344                   0.0                           0.0              0   \n",
       "118345                   0.0                           0.0              0   \n",
       "118346                   0.0                           0.0              0   \n",
       "\n",
       "        week3_cat_avg_item_cnt_lag_1  week5_cat_avg_item_cnt_lag_1  \\\n",
       "0                                0.0                           0.0   \n",
       "1                                0.0                           0.0   \n",
       "2                                0.0                           0.0   \n",
       "3                                0.0                           0.0   \n",
       "4                                0.0                           0.0   \n",
       "...                              ...                           ...   \n",
       "118342                           0.0                           0.0   \n",
       "118343                           0.0                           0.0   \n",
       "118344                           0.0                           0.0   \n",
       "118345                           0.0                           0.0   \n",
       "118346                           0.0                           0.0   \n",
       "\n",
       "        category_만화/라이트노벨  item_cnt_month  item_cnt_month  \n",
       "0                       0             1.0             1.0  \n",
       "1                       0             7.0             7.0  \n",
       "2                       0             1.0             1.0  \n",
       "3                       0             1.0             1.0  \n",
       "4                       0             1.0             1.0  \n",
       "...                   ...             ...             ...  \n",
       "118342                  0             0.0             0.0  \n",
       "118343                  0             0.0             0.0  \n",
       "118344                  0             0.0             0.0  \n",
       "118345                  0             0.0             0.0  \n",
       "118346                  0             0.0             0.0  \n",
       "\n",
       "[118347 rows x 33 columns]"
      ]
     },
     "execution_count": 3,
     "metadata": {},
     "output_type": "execute_result"
    }
   ],
   "source": [
    "df = pd.read_pickle(os.path.abspath(\"../dat\")+'/feature_4.pkl')\n",
    "test = pd.read_csv(os.path.abspath(\"../dat\")+'/test.csv', encoding='cp949')\n",
    "df"
   ]
  },
  {
   "cell_type": "markdown",
   "metadata": {},
   "source": [
    "### Split Data"
   ]
  },
  {
   "cell_type": "markdown",
   "metadata": {
    "_uuid": "11eb4f2f5ada18aa8993ec55e8c63e80758fc19e"
   },
   "source": [
    "아래와 같이 데이터를 분할:\n",
    "- Test Data: 12월 데이터\n",
    "- Validation Data: 11월 데이터\n",
    "- Train Data: 5~10월 데이터"
   ]
  },
  {
   "cell_type": "code",
   "execution_count": 4,
   "metadata": {
    "_uuid": "9af76d7b80064573a453e5e10c35b76fc31c47a4"
   },
   "outputs": [],
   "source": [
    "X_train = df[df.month < 12].drop(['item_cnt_month'], axis=1)\n",
    "y_train = df[df.month < 12]['item_cnt_month'] # 11월까지 데이터를 하나로 묶에서 검증데이터로 만듦\n",
    "X_test = df[df.month == 12].drop(['item_cnt_month'], axis=1)"
   ]
  },
  {
   "cell_type": "code",
   "execution_count": 5,
   "metadata": {},
   "outputs": [],
   "source": [
    "# Numerical features 숫자형\n",
    "X_train = X_train.drop(['month'], axis=1)\n",
    "X_test = X_test.drop(['month'], axis=1)"
   ]
  },
  {
   "cell_type": "code",
   "execution_count": 6,
   "metadata": {},
   "outputs": [
    {
     "data": {
      "text/plain": [
       "((104866, 30), (13481, 30))"
      ]
     },
     "execution_count": 6,
     "metadata": {},
     "output_type": "execute_result"
    }
   ],
   "source": [
    "X_train.shape, X_test.shape"
   ]
  },
  {
   "cell_type": "markdown",
   "metadata": {},
   "source": [
    "### Train & Evaluate the Model"
   ]
  },
  {
   "cell_type": "markdown",
   "metadata": {},
   "source": [
    "Scale Data"
   ]
  },
  {
   "cell_type": "code",
   "execution_count": 7,
   "metadata": {},
   "outputs": [],
   "source": [
    "scaler = StandardScaler()\n",
    "X_train = scaler.fit_transform(X_train)\n",
    "X_test = scaler.transform(X_test)"
   ]
  },
  {
   "cell_type": "markdown",
   "metadata": {},
   "source": [
    "Random seed 변경을 통한 다수의 DNN 모델 생성"
   ]
  },
  {
   "cell_type": "code",
   "execution_count": 8,
   "metadata": {},
   "outputs": [],
   "source": [
    "# 예측값을 저장할 폴더 생성\n",
    "folder = '../dat/Ensemble2'\n",
    "if not os.path.isdir(folder):\n",
    "    os.mkdir(folder)"
   ]
  },
  {
   "cell_type": "code",
   "execution_count": 9,
   "metadata": {},
   "outputs": [
    {
     "name": "stderr",
     "output_type": "stream",
     "text": [
      "\r",
      "  0%|                                                                                           | 0/20 [00:00<?, ?it/s]"
     ]
    },
    {
     "name": "stdout",
     "output_type": "stream",
     "text": [
      "RANDOM SEEDS RESET\n"
     ]
    },
    {
     "name": "stderr",
     "output_type": "stream",
     "text": [
      "\r",
      "  5%|████▏                                                                              | 1/20 [00:53<16:56, 53.52s/it]"
     ]
    },
    {
     "name": "stdout",
     "output_type": "stream",
     "text": [
      "RANDOM SEEDS RESET\n"
     ]
    },
    {
     "name": "stderr",
     "output_type": "stream",
     "text": [
      "\r",
      " 10%|████████▎                                                                          | 2/20 [01:46<15:59, 53.30s/it]"
     ]
    },
    {
     "name": "stdout",
     "output_type": "stream",
     "text": [
      "RANDOM SEEDS RESET\n"
     ]
    },
    {
     "name": "stderr",
     "output_type": "stream",
     "text": [
      "\r",
      " 15%|████████████▍                                                                      | 3/20 [02:37<14:53, 52.54s/it]"
     ]
    },
    {
     "name": "stdout",
     "output_type": "stream",
     "text": [
      "RANDOM SEEDS RESET\n"
     ]
    },
    {
     "name": "stderr",
     "output_type": "stream",
     "text": [
      "\r",
      " 20%|████████████████▌                                                                  | 4/20 [03:26<13:45, 51.61s/it]"
     ]
    },
    {
     "name": "stdout",
     "output_type": "stream",
     "text": [
      "RANDOM SEEDS RESET\n"
     ]
    },
    {
     "name": "stderr",
     "output_type": "stream",
     "text": [
      "\r",
      " 25%|████████████████████▊                                                              | 5/20 [04:15<12:42, 50.85s/it]"
     ]
    },
    {
     "name": "stdout",
     "output_type": "stream",
     "text": [
      "RANDOM SEEDS RESET\n"
     ]
    },
    {
     "name": "stderr",
     "output_type": "stream",
     "text": [
      "\r",
      " 30%|████████████████████████▉                                                          | 6/20 [05:06<11:53, 50.95s/it]"
     ]
    },
    {
     "name": "stdout",
     "output_type": "stream",
     "text": [
      "RANDOM SEEDS RESET\n"
     ]
    },
    {
     "name": "stderr",
     "output_type": "stream",
     "text": [
      "\r",
      " 35%|█████████████████████████████                                                      | 7/20 [05:57<10:59, 50.75s/it]"
     ]
    },
    {
     "name": "stdout",
     "output_type": "stream",
     "text": [
      "RANDOM SEEDS RESET\n"
     ]
    },
    {
     "name": "stderr",
     "output_type": "stream",
     "text": [
      "\r",
      " 40%|█████████████████████████████████▏                                                 | 8/20 [06:48<10:12, 51.03s/it]"
     ]
    },
    {
     "name": "stdout",
     "output_type": "stream",
     "text": [
      "RANDOM SEEDS RESET\n"
     ]
    },
    {
     "name": "stderr",
     "output_type": "stream",
     "text": [
      "\r",
      " 45%|█████████████████████████████████████▎                                             | 9/20 [07:40<09:22, 51.13s/it]"
     ]
    },
    {
     "name": "stdout",
     "output_type": "stream",
     "text": [
      "RANDOM SEEDS RESET\n"
     ]
    },
    {
     "name": "stderr",
     "output_type": "stream",
     "text": [
      "\r",
      " 50%|█████████████████████████████████████████                                         | 10/20 [08:31<08:31, 51.17s/it]"
     ]
    },
    {
     "name": "stdout",
     "output_type": "stream",
     "text": [
      "RANDOM SEEDS RESET\n"
     ]
    },
    {
     "name": "stderr",
     "output_type": "stream",
     "text": [
      "\r",
      " 55%|█████████████████████████████████████████████                                     | 11/20 [09:22<07:40, 51.16s/it]"
     ]
    },
    {
     "name": "stdout",
     "output_type": "stream",
     "text": [
      "RANDOM SEEDS RESET\n"
     ]
    },
    {
     "name": "stderr",
     "output_type": "stream",
     "text": [
      "\r",
      " 60%|█████████████████████████████████████████████████▏                                | 12/20 [10:14<06:51, 51.42s/it]"
     ]
    },
    {
     "name": "stdout",
     "output_type": "stream",
     "text": [
      "RANDOM SEEDS RESET\n"
     ]
    },
    {
     "name": "stderr",
     "output_type": "stream",
     "text": [
      "\r",
      " 65%|█████████████████████████████████████████████████████▎                            | 13/20 [11:06<06:01, 51.64s/it]"
     ]
    },
    {
     "name": "stdout",
     "output_type": "stream",
     "text": [
      "RANDOM SEEDS RESET\n"
     ]
    },
    {
     "name": "stderr",
     "output_type": "stream",
     "text": [
      "\r",
      " 70%|█████████████████████████████████████████████████████████▍                        | 14/20 [11:59<05:11, 51.96s/it]"
     ]
    },
    {
     "name": "stdout",
     "output_type": "stream",
     "text": [
      "RANDOM SEEDS RESET\n"
     ]
    },
    {
     "name": "stderr",
     "output_type": "stream",
     "text": [
      "\r",
      " 75%|█████████████████████████████████████████████████████████████▌                    | 15/20 [12:49<04:16, 51.39s/it]"
     ]
    },
    {
     "name": "stdout",
     "output_type": "stream",
     "text": [
      "RANDOM SEEDS RESET\n"
     ]
    },
    {
     "name": "stderr",
     "output_type": "stream",
     "text": [
      "\r",
      " 80%|█████████████████████████████████████████████████████████████████▌                | 16/20 [13:40<03:25, 51.26s/it]"
     ]
    },
    {
     "name": "stdout",
     "output_type": "stream",
     "text": [
      "RANDOM SEEDS RESET\n"
     ]
    },
    {
     "name": "stderr",
     "output_type": "stream",
     "text": [
      "\r",
      " 85%|█████████████████████████████████████████████████████████████████████▋            | 17/20 [14:31<02:33, 51.19s/it]"
     ]
    },
    {
     "name": "stdout",
     "output_type": "stream",
     "text": [
      "RANDOM SEEDS RESET\n"
     ]
    },
    {
     "name": "stderr",
     "output_type": "stream",
     "text": [
      "\r",
      " 90%|█████████████████████████████████████████████████████████████████████████▊        | 18/20 [15:21<01:41, 50.91s/it]"
     ]
    },
    {
     "name": "stdout",
     "output_type": "stream",
     "text": [
      "RANDOM SEEDS RESET\n"
     ]
    },
    {
     "name": "stderr",
     "output_type": "stream",
     "text": [
      "\r",
      " 95%|█████████████████████████████████████████████████████████████████████████████▉    | 19/20 [16:12<00:50, 50.93s/it]"
     ]
    },
    {
     "name": "stdout",
     "output_type": "stream",
     "text": [
      "RANDOM SEEDS RESET\n"
     ]
    },
    {
     "name": "stderr",
     "output_type": "stream",
     "text": [
      "100%|██████████████████████████████████████████████████████████████████████████████████| 20/20 [17:03<00:00, 51.16s/it]\n"
     ]
    }
   ],
   "source": [
    "for i in tqdm(range(20)):    \n",
    "    SEED = np.random.randint(1, 10000)              \n",
    "    reset_seeds(SEED)\n",
    "    \n",
    "    # Define the NN architecture\n",
    "    input = keras.Input(shape=(X_train.shape[1],))\n",
    "    x = keras.layers.Dense(64, activation='elu')(input)\n",
    "    x = keras.layers.Dropout(0.2)(x)\n",
    "    x1 = keras.layers.Dense(64)(x)\n",
    "    x = keras.layers.Add()([x1,x])\n",
    "    x = keras.layers.Dense(32, activation='elu')(x)\n",
    "    x = keras.layers.Dropout(0.2)(x)\n",
    "    x1 = keras.layers.Dense(32)(x)\n",
    "    x = keras.layers.Add()([x1,x])\n",
    "    x = keras.layers.Dense(16, activation='elu')(x)\n",
    "    x = keras.layers.Dropout(0.2)(x)\n",
    "    x1 = keras.layers.Dense(16)(x)\n",
    "    x = keras.layers.Add()([x1,x])\n",
    "    output = keras.layers.Dense(1, activation='relu')(x)\n",
    "    model = keras.Model(input,output)    \n",
    "    \n",
    "    # Choose the optimizer and the cost function\n",
    "    model.compile(loss='mse', optimizer='adam', metrics=[tf.keras.metrics.RootMeanSquaredError()])\n",
    "    \n",
    "    # Train the model\n",
    "    callbacks = [keras.callbacks.EarlyStopping(monitor='val_loss', patience=200)]\n",
    "    hist = model.fit([X_train, y_train], y_train, validation_split = 0.3,  batch_size=2048, epochs=200, \n",
    "                 callbacks=callbacks, shuffle=False, verbose=0)\n",
    "    \n",
    "    # Make submissions\n",
    "    submission = pd.DataFrame({\n",
    "        \"item_id\": test.item_id, \n",
    "        \"item_cnt_month\": model.predict(X_test).clip(0, 20).flatten()\n",
    "    })\n",
    "    t = pd.Timestamp.now()\n",
    "    fname = f\"{folder}/loop_submission_{t.month:02}{t.day:02}_{SEED:05}.csv\"\n",
    "    submission.to_csv(fname, index=False)    "
   ]
  },
  {
   "cell_type": "markdown",
   "metadata": {},
   "source": [
    "생성된 다수의 DNN 모형을 power mean 앙상블"
   ]
  },
  {
   "cell_type": "code",
   "execution_count": 10,
   "metadata": {},
   "outputs": [],
   "source": [
    "nf = 0\n",
    "for f in os.listdir(folder):\n",
    "    ext = os.path.splitext(f)[-1]\n",
    "    if ext == '.csv': \n",
    "        s = pd.read_csv(folder+\"/\"+f)\n",
    "    else: \n",
    "        continue\n",
    "    if len(s.columns) !=2:\n",
    "        continue\n",
    "    if nf == 0: \n",
    "        slist = s\n",
    "    else: \n",
    "        slist = pd.merge(slist, s, on=\"item_id\")\n",
    "    nf += 1\n",
    "\n",
    "p = 20 # 이 값에 따라 성능이 달라짐 (p=0: 기하평균, p=1: 산술평균)    \n",
    "if nf >= 2:\n",
    "    if p == 0: \n",
    "        pred = 1\n",
    "        for j in range(nf): pred = pred * slist.iloc[:,j+1]\n",
    "        pred = pred**(1/nf)\n",
    "    else:\n",
    "        pred = 0\n",
    "        for j in range(nf): pred = pred + slist.iloc[:,j+1]**p\n",
    "        pred = pred / nf\n",
    "        pred = pred**(1/p)\n",
    "    submission = pd.DataFrame({'item_id': slist.item_id, 'item_cnt_month': pred})\n",
    "   \n",
    "    submission.to_csv('submit_2.csv', index=False)"
   ]
  },
  {
   "cell_type": "markdown",
   "metadata": {},
   "source": [
    "# End"
   ]
  }
 ],
 "metadata": {
  "kernelspec": {
   "display_name": "Python 3 (ipykernel)",
   "language": "python",
   "name": "python3"
  },
  "language_info": {
   "codemirror_mode": {
    "name": "ipython",
    "version": 3
   },
   "file_extension": ".py",
   "mimetype": "text/x-python",
   "name": "python",
   "nbconvert_exporter": "python",
   "pygments_lexer": "ipython3",
   "version": "3.9.7"
  }
 },
 "nbformat": 4,
 "nbformat_minor": 4
}
