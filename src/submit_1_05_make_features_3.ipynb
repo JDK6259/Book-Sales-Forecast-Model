{
 "cells": [
  {
   "cell_type": "markdown",
   "metadata": {},
   "source": [
    "# Make features"
   ]
  },
  {
   "cell_type": "markdown",
   "metadata": {},
   "source": [
    "### Imports"
   ]
  },
  {
   "cell_type": "code",
   "execution_count": 1,
   "metadata": {
    "_cell_guid": "b1076dfc-b9ad-4769-8c92-a6c4dae69d19",
    "_uuid": "8f2839f25d086af736a60e9eeb907d3b93b6e0e5"
   },
   "outputs": [],
   "source": [
    "import numpy as np\n",
    "import pandas as pd\n",
    "pd.set_option('display.max_rows', 100)\n",
    "pd.set_option('display.max_columns', 100)\n",
    "\n",
    "import seaborn as sns\n",
    "import matplotlib.pyplot as plt\n",
    "from matplotlib import font_manager, rc\n",
    "%matplotlib inline\n",
    "\n",
    "from xgboost import XGBRegressor\n",
    "from xgboost import plot_importance\n",
    "\n",
    "import time\n",
    "import sys\n",
    "import gc\n",
    "import pickle\n",
    "import platform\n",
    "import os"
   ]
  },
  {
   "cell_type": "markdown",
   "metadata": {},
   "source": [
    "### Load Data"
   ]
  },
  {
   "cell_type": "code",
   "execution_count": 2,
   "metadata": {
    "_uuid": "f0a1c729d4fb3d6609f9dfb163ebe92fa9dc654c"
   },
   "outputs": [],
   "source": [
    "train = pd.read_csv(os.path.abspath(\"../dat\")+'/train.csv', encoding='cp949')\n",
    "test = pd.read_csv(os.path.abspath(\"../dat\")+'/test.csv', encoding='cp949')"
   ]
  },
  {
   "cell_type": "markdown",
   "metadata": {},
   "source": [
    "### Feature Engineering"
   ]
  },
  {
   "cell_type": "markdown",
   "metadata": {},
   "source": [
    "주 단위 feature를 만들기 위해 week 필드 생성"
   ]
  },
  {
   "cell_type": "code",
   "execution_count": 3,
   "metadata": {},
   "outputs": [],
   "source": [
    "train[\"week\"] = train[\"date\"].apply(lambda x : (x%100-1)//5+1 if (x%100-1)//5<6 else 6)"
   ]
  },
  {
   "cell_type": "markdown",
   "metadata": {
    "_uuid": "62c5f83fa222595da99294f465ab28e80ce415e9"
   },
   "source": [
    "#### Transactions to monthly sales"
   ]
  },
  {
   "cell_type": "markdown",
   "metadata": {},
   "source": [
    "*유의사항) Test Data에 있는 책 중에 1014개는 Train Data에는 없음.*"
   ]
  },
  {
   "cell_type": "code",
   "execution_count": 4,
   "metadata": {
    "_uuid": "fb69350aef2c28cdb619e2532de1e24ab3c43899"
   },
   "outputs": [
    {
     "data": {
      "text/plain": [
       "(1014, 13481)"
      ]
     },
     "execution_count": 4,
     "metadata": {},
     "output_type": "execute_result"
    }
   ],
   "source": [
    "len(list(set(test.item_id) - set(test.item_id).intersection(set(train.item_id)))), len(test)"
   ]
  },
  {
   "cell_type": "markdown",
   "metadata": {},
   "source": [
    "월별 도서별 판매량 형식으로 데이터 변환"
   ]
  },
  {
   "cell_type": "code",
   "execution_count": 5,
   "metadata": {},
   "outputs": [],
   "source": [
    "df = train.groupby(['month','item_id'])['count'].agg([('item_cnt_month', 'sum')]).reset_index()"
   ]
  },
  {
   "cell_type": "code",
   "execution_count": 6,
   "metadata": {},
   "outputs": [],
   "source": [
    "for i in range(1,7):\n",
    "    itemweek = train.query(\"week==@i\").groupby(['month','item_id'])['count'].agg([(f'item_cnt_week{i}', 'sum')]).reset_index()\n",
    "    df = pd.merge(df,itemweek,on=[\"month\",\"item_id\"],how=\"left\")\n",
    "df = df.fillna(0)"
   ]
  },
  {
   "cell_type": "markdown",
   "metadata": {},
   "source": [
    "target value(월별 도서 판매량)를 최대 20으로 조정"
   ]
  },
  {
   "cell_type": "code",
   "execution_count": 7,
   "metadata": {},
   "outputs": [],
   "source": [
    "df['item_cnt_month'] = df['item_cnt_month'].clip(0,20)"
   ]
  },
  {
   "cell_type": "markdown",
   "metadata": {
    "_uuid": "233e394a6cebf36ef002dc76fef8d430026a52b3"
   },
   "source": [
    "#### Add a book category feature"
   ]
  },
  {
   "cell_type": "code",
   "execution_count": 8,
   "metadata": {},
   "outputs": [],
   "source": [
    "df = pd.merge(df, \n",
    "              train.drop_duplicates(subset='item_id').loc[:,['item_id', 'category']], \n",
    "              on='item_id', how='left')"
   ]
  },
  {
   "cell_type": "markdown",
   "metadata": {
    "_uuid": "315bc6107a93f3926a64fd09ea9244e9281ee41f"
   },
   "source": [
    "#### Append test set"
   ]
  },
  {
   "cell_type": "markdown",
   "metadata": {},
   "source": [
    "학습 데이터와 같은 feature를 만들기 위해 병합"
   ]
  },
  {
   "cell_type": "code",
   "execution_count": 9,
   "metadata": {},
   "outputs": [],
   "source": [
    "test[\"month\"] = 12\n",
    "df = pd.concat([df, test], ignore_index=True, sort=False).fillna(0)"
   ]
  },
  {
   "cell_type": "markdown",
   "metadata": {
    "_uuid": "8358b291fdc8e0e7d1b5700974803b3f104715f7"
   },
   "source": [
    "#### Add lag features"
   ]
  },
  {
   "cell_type": "markdown",
   "metadata": {},
   "source": [
    "시차변수(1개월, 2개월, 3개월, 4개월 전 판매량) 생성"
   ]
  },
  {
   "cell_type": "code",
   "execution_count": 10,
   "metadata": {
    "_uuid": "9cd7bcc7643ce4545475e8e6f80d09a979aac42d"
   },
   "outputs": [],
   "source": [
    "def lag_feature(df, lags, col):\n",
    "    tmp = df[['month','item_id',col]]\n",
    "    for i in lags:\n",
    "        shifted = tmp.copy()\n",
    "        shifted.columns = ['month','item_id', col+f'_lag_{i}']\n",
    "        shifted['month'] += i\n",
    "        df = pd.merge(df, shifted, on=['month','item_id'], how='left')\n",
    "    return df"
   ]
  },
  {
   "cell_type": "code",
   "execution_count": 11,
   "metadata": {
    "_uuid": "78bf7ece93ebc4629ad0e48cd6a9927788d8706d"
   },
   "outputs": [],
   "source": [
    "df = lag_feature(df, [1,2,3,4], 'item_cnt_month')"
   ]
  },
  {
   "cell_type": "code",
   "execution_count": 12,
   "metadata": {},
   "outputs": [],
   "source": [
    "for i in range(1,7):\n",
    "    df = lag_feature(df,[1,2,3,4],f'item_cnt_week{i}')"
   ]
  },
  {
   "cell_type": "markdown",
   "metadata": {},
   "source": [
    "월 평균 판매량"
   ]
  },
  {
   "cell_type": "code",
   "execution_count": 13,
   "metadata": {
    "_uuid": "763aca242154ea10fa0a62fffadb4ef90e9532d6"
   },
   "outputs": [],
   "source": [
    "group = df.groupby(['month'])['item_cnt_month'].agg([('month_avg_item_cnt', 'mean')]).reset_index()\n",
    "df = pd.merge(df, group, on=['month'], how='left')\n",
    "df = lag_feature(df, [1,2,3,4], 'month_avg_item_cnt')\n",
    "df.drop(['month_avg_item_cnt'], axis=1, inplace=True)"
   ]
  },
  {
   "cell_type": "code",
   "execution_count": 14,
   "metadata": {},
   "outputs": [],
   "source": [
    "for i in range(1,7):\n",
    "    group = df.groupby(['month'])[f'item_cnt_week{i}'].agg([(f'week{i}_avg_item_cnt', 'mean')]).reset_index()\n",
    "    df = pd.merge(df, group, on=['month'], how='left')\n",
    "    df = lag_feature(df, [1,2,3,4], f'week{i}_avg_item_cnt')\n",
    "    df.drop([f'week{i}_avg_item_cnt'], axis=1, inplace=True)"
   ]
  },
  {
   "cell_type": "markdown",
   "metadata": {},
   "source": [
    "도서별 월평균 판매량"
   ]
  },
  {
   "cell_type": "code",
   "execution_count": 15,
   "metadata": {
    "_uuid": "fc9166c4e678ebb99d03566f1751b7d4b5c690d2"
   },
   "outputs": [],
   "source": [
    "group = df.groupby(['month', 'item_id'])['item_cnt_month'].agg([('month_item_avg_item_cnt', 'mean')]).reset_index()\n",
    "df = pd.merge(df, group, on=['month','item_id'], how='left')\n",
    "df = lag_feature(df, [1,2,3,4], 'month_item_avg_item_cnt')\n",
    "df.drop(['month_item_avg_item_cnt'], axis=1, inplace=True)"
   ]
  },
  {
   "cell_type": "code",
   "execution_count": 16,
   "metadata": {},
   "outputs": [],
   "source": [
    "for i in range(1,7):\n",
    "    group = df.groupby(['month', 'item_id'])[f'item_cnt_week{i}'].agg([(f'week{i}_item_avg_item_cnt', 'mean')]).reset_index()\n",
    "    df = pd.merge(df, group, on=['month','item_id'], how='left')\n",
    "    df = lag_feature(df, [1,2,3,4], f'week{i}_item_avg_item_cnt')\n",
    "    df.drop([f'week{i}_item_avg_item_cnt'], axis=1, inplace=True)"
   ]
  },
  {
   "cell_type": "markdown",
   "metadata": {},
   "source": [
    "도서 분야별 월평균 판매량"
   ]
  },
  {
   "cell_type": "code",
   "execution_count": 17,
   "metadata": {
    "_uuid": "c3948a9b206bc480b31385c29a713aa49747de19"
   },
   "outputs": [],
   "source": [
    "group = df.groupby(['month', 'category']).agg({'item_cnt_month': ['mean']})\n",
    "group.columns = ['date_cat_avg_item_cnt']\n",
    "group.reset_index(inplace=True)\n",
    "\n",
    "group = df.groupby(['month', 'category'])['item_cnt_month'].agg([('month_cat_avg_item_cnt', 'mean')]).reset_index()\n",
    "\n",
    "df = pd.merge(df, group, on=['month', 'category'], how='left')\n",
    "df = lag_feature(df, [1], 'month_cat_avg_item_cnt')\n",
    "df.drop(['month_cat_avg_item_cnt'], axis=1, inplace=True)"
   ]
  },
  {
   "cell_type": "code",
   "execution_count": 18,
   "metadata": {},
   "outputs": [],
   "source": [
    "for i in range(1,7):\n",
    "    group = df.groupby(['month', 'category']).agg({f'item_cnt_week{i}': ['mean']})\n",
    "    group.columns = [f'week{i}_date_cat_avg_item_cnt']\n",
    "    group.reset_index(inplace=True)\n",
    "\n",
    "    group = df.groupby(['month', 'category'])[f'item_cnt_week{i}'].agg([(f'week{i}_cat_avg_item_cnt', 'mean')]).reset_index()\n",
    "\n",
    "    df = pd.merge(df, group, on=['month', 'category'], how='left')\n",
    "    df = lag_feature(df, [1], f'week{i}_cat_avg_item_cnt')\n",
    "    df.drop([f'week{i}_cat_avg_item_cnt'], axis=1, inplace=True)"
   ]
  },
  {
   "cell_type": "code",
   "execution_count": 19,
   "metadata": {},
   "outputs": [],
   "source": [
    "df = df.drop([\"item_cnt_week1\",\"item_cnt_week2\",\"item_cnt_week3\",\"item_cnt_week4\",\"item_cnt_week5\",\"item_cnt_week6\"],axis=1)"
   ]
  },
  {
   "cell_type": "markdown",
   "metadata": {
    "_uuid": "966cb34ccfe849fbb3707d93270691cb8eef7a89"
   },
   "source": [
    "#### Final data preparation\n",
    "Lag feature를 적용할 수 없는 1월부터 4월 데이터 제거"
   ]
  },
  {
   "cell_type": "code",
   "execution_count": 20,
   "metadata": {
    "_uuid": "04df1bc4240f409a5d4521c6f70c2ced44f7c3d4"
   },
   "outputs": [],
   "source": [
    "df = df[df.month > 4]"
   ]
  },
  {
   "cell_type": "markdown",
   "metadata": {
    "_uuid": "48a14784050901f878b40f093e4bc34e07ecce05"
   },
   "source": [
    "결측값 0으로 치환"
   ]
  },
  {
   "cell_type": "code",
   "execution_count": 21,
   "metadata": {
    "_uuid": "8e5d8cb5cea9be28af4a0486cc1bf797e5b5c7ee"
   },
   "outputs": [],
   "source": [
    "def fill_na(df):\n",
    "    df = df.replace([np.inf, -np.inf], np.nan)\n",
    "    for col in df.columns:\n",
    "        if ('_lag_' in col) & (df[col].isnull().any()):\n",
    "            if ('item_cnt' in col):\n",
    "                df[col].fillna(0, inplace=True)         \n",
    "    return df\n",
    "\n",
    "df = fill_na(df)"
   ]
  },
  {
   "cell_type": "markdown",
   "metadata": {},
   "source": [
    "도서 관련 feature 추가"
   ]
  },
  {
   "cell_type": "code",
   "execution_count": 22,
   "metadata": {},
   "outputs": [],
   "source": [
    "book = pd.read_csv(os.path.abspath(\"../dat\")+'/book_info.csv', encoding='cp949')\n",
    "book = book.fillna(0)\n",
    "book[\"pub_date\"] = book[\"pub_date\"].astype(int)"
   ]
  },
  {
   "cell_type": "code",
   "execution_count": 23,
   "metadata": {},
   "outputs": [],
   "source": [
    "book[\"pub_month\"] = book[\"pub_date\"].apply(lambda x: x%10000//100 if x//10000==2014 else 0)"
   ]
  },
  {
   "cell_type": "code",
   "execution_count": 24,
   "metadata": {},
   "outputs": [],
   "source": [
    "df = pd.merge(df, book[[\"item_id\",\"pub_month\"]], on=\"item_id\", how='left')"
   ]
  },
  {
   "cell_type": "code",
   "execution_count": 25,
   "metadata": {
    "scrolled": true
   },
   "outputs": [
    {
     "name": "stdout",
     "output_type": "stream",
     "text": [
      "<class 'pandas.core.frame.DataFrame'>\n",
      "Int64Index: 154603 entries, 0 to 154602\n",
      "Data columns (total 97 columns):\n",
      " #   Column                         Non-Null Count   Dtype  \n",
      "---  ------                         --------------   -----  \n",
      " 0   month                          154603 non-null  int64  \n",
      " 1   item_id                        154603 non-null  int64  \n",
      " 2   item_cnt_month                 154603 non-null  float64\n",
      " 3   category                       154603 non-null  object \n",
      " 4   item_cnt_month_lag_1           154603 non-null  float64\n",
      " 5   item_cnt_month_lag_2           154603 non-null  float64\n",
      " 6   item_cnt_month_lag_3           154603 non-null  float64\n",
      " 7   item_cnt_month_lag_4           154603 non-null  float64\n",
      " 8   item_cnt_week1_lag_1           154603 non-null  float64\n",
      " 9   item_cnt_week1_lag_2           154603 non-null  float64\n",
      " 10  item_cnt_week1_lag_3           154603 non-null  float64\n",
      " 11  item_cnt_week1_lag_4           154603 non-null  float64\n",
      " 12  item_cnt_week2_lag_1           154603 non-null  float64\n",
      " 13  item_cnt_week2_lag_2           154603 non-null  float64\n",
      " 14  item_cnt_week2_lag_3           154603 non-null  float64\n",
      " 15  item_cnt_week2_lag_4           154603 non-null  float64\n",
      " 16  item_cnt_week3_lag_1           154603 non-null  float64\n",
      " 17  item_cnt_week3_lag_2           154603 non-null  float64\n",
      " 18  item_cnt_week3_lag_3           154603 non-null  float64\n",
      " 19  item_cnt_week3_lag_4           154603 non-null  float64\n",
      " 20  item_cnt_week4_lag_1           154603 non-null  float64\n",
      " 21  item_cnt_week4_lag_2           154603 non-null  float64\n",
      " 22  item_cnt_week4_lag_3           154603 non-null  float64\n",
      " 23  item_cnt_week4_lag_4           154603 non-null  float64\n",
      " 24  item_cnt_week5_lag_1           154603 non-null  float64\n",
      " 25  item_cnt_week5_lag_2           154603 non-null  float64\n",
      " 26  item_cnt_week5_lag_3           154603 non-null  float64\n",
      " 27  item_cnt_week5_lag_4           154603 non-null  float64\n",
      " 28  item_cnt_week6_lag_1           154603 non-null  float64\n",
      " 29  item_cnt_week6_lag_2           154603 non-null  float64\n",
      " 30  item_cnt_week6_lag_3           154603 non-null  float64\n",
      " 31  item_cnt_week6_lag_4           154603 non-null  float64\n",
      " 32  month_avg_item_cnt_lag_1       154603 non-null  float64\n",
      " 33  month_avg_item_cnt_lag_2       154603 non-null  float64\n",
      " 34  month_avg_item_cnt_lag_3       154603 non-null  float64\n",
      " 35  month_avg_item_cnt_lag_4       154603 non-null  float64\n",
      " 36  week1_avg_item_cnt_lag_1       154603 non-null  float64\n",
      " 37  week1_avg_item_cnt_lag_2       154603 non-null  float64\n",
      " 38  week1_avg_item_cnt_lag_3       154603 non-null  float64\n",
      " 39  week1_avg_item_cnt_lag_4       154603 non-null  float64\n",
      " 40  week2_avg_item_cnt_lag_1       154603 non-null  float64\n",
      " 41  week2_avg_item_cnt_lag_2       154603 non-null  float64\n",
      " 42  week2_avg_item_cnt_lag_3       154603 non-null  float64\n",
      " 43  week2_avg_item_cnt_lag_4       154603 non-null  float64\n",
      " 44  week3_avg_item_cnt_lag_1       154603 non-null  float64\n",
      " 45  week3_avg_item_cnt_lag_2       154603 non-null  float64\n",
      " 46  week3_avg_item_cnt_lag_3       154603 non-null  float64\n",
      " 47  week3_avg_item_cnt_lag_4       154603 non-null  float64\n",
      " 48  week4_avg_item_cnt_lag_1       154603 non-null  float64\n",
      " 49  week4_avg_item_cnt_lag_2       154603 non-null  float64\n",
      " 50  week4_avg_item_cnt_lag_3       154603 non-null  float64\n",
      " 51  week4_avg_item_cnt_lag_4       154603 non-null  float64\n",
      " 52  week5_avg_item_cnt_lag_1       154603 non-null  float64\n",
      " 53  week5_avg_item_cnt_lag_2       154603 non-null  float64\n",
      " 54  week5_avg_item_cnt_lag_3       154603 non-null  float64\n",
      " 55  week5_avg_item_cnt_lag_4       154603 non-null  float64\n",
      " 56  week6_avg_item_cnt_lag_1       154603 non-null  float64\n",
      " 57  week6_avg_item_cnt_lag_2       154603 non-null  float64\n",
      " 58  week6_avg_item_cnt_lag_3       154603 non-null  float64\n",
      " 59  week6_avg_item_cnt_lag_4       154603 non-null  float64\n",
      " 60  month_item_avg_item_cnt_lag_1  154603 non-null  float64\n",
      " 61  month_item_avg_item_cnt_lag_2  154603 non-null  float64\n",
      " 62  month_item_avg_item_cnt_lag_3  154603 non-null  float64\n",
      " 63  month_item_avg_item_cnt_lag_4  154603 non-null  float64\n",
      " 64  week1_item_avg_item_cnt_lag_1  154603 non-null  float64\n",
      " 65  week1_item_avg_item_cnt_lag_2  154603 non-null  float64\n",
      " 66  week1_item_avg_item_cnt_lag_3  154603 non-null  float64\n",
      " 67  week1_item_avg_item_cnt_lag_4  154603 non-null  float64\n",
      " 68  week2_item_avg_item_cnt_lag_1  154603 non-null  float64\n",
      " 69  week2_item_avg_item_cnt_lag_2  154603 non-null  float64\n",
      " 70  week2_item_avg_item_cnt_lag_3  154603 non-null  float64\n",
      " 71  week2_item_avg_item_cnt_lag_4  154603 non-null  float64\n",
      " 72  week3_item_avg_item_cnt_lag_1  154603 non-null  float64\n",
      " 73  week3_item_avg_item_cnt_lag_2  154603 non-null  float64\n",
      " 74  week3_item_avg_item_cnt_lag_3  154603 non-null  float64\n",
      " 75  week3_item_avg_item_cnt_lag_4  154603 non-null  float64\n",
      " 76  week4_item_avg_item_cnt_lag_1  154603 non-null  float64\n",
      " 77  week4_item_avg_item_cnt_lag_2  154603 non-null  float64\n",
      " 78  week4_item_avg_item_cnt_lag_3  154603 non-null  float64\n",
      " 79  week4_item_avg_item_cnt_lag_4  154603 non-null  float64\n",
      " 80  week5_item_avg_item_cnt_lag_1  154603 non-null  float64\n",
      " 81  week5_item_avg_item_cnt_lag_2  154603 non-null  float64\n",
      " 82  week5_item_avg_item_cnt_lag_3  154603 non-null  float64\n",
      " 83  week5_item_avg_item_cnt_lag_4  154603 non-null  float64\n",
      " 84  week6_item_avg_item_cnt_lag_1  154603 non-null  float64\n",
      " 85  week6_item_avg_item_cnt_lag_2  154603 non-null  float64\n",
      " 86  week6_item_avg_item_cnt_lag_3  154603 non-null  float64\n",
      " 87  week6_item_avg_item_cnt_lag_4  154603 non-null  float64\n",
      " 88  month_cat_avg_item_cnt_lag_1   154603 non-null  float64\n",
      " 89  week1_cat_avg_item_cnt_lag_1   154603 non-null  float64\n",
      " 90  week2_cat_avg_item_cnt_lag_1   154603 non-null  float64\n",
      " 91  week3_cat_avg_item_cnt_lag_1   154603 non-null  float64\n",
      " 92  week4_cat_avg_item_cnt_lag_1   154603 non-null  float64\n",
      " 93  week5_cat_avg_item_cnt_lag_1   154603 non-null  float64\n",
      " 94  week6_cat_avg_item_cnt_lag_1   154603 non-null  float64\n",
      " 95  pub_month                      154603 non-null  int64  \n",
      " 96  pub_binary                     154603 non-null  int32  \n",
      "dtypes: float64(92), int32(1), int64(3), object(1)\n",
      "memory usage: 115.0+ MB\n"
     ]
    }
   ],
   "source": [
    "df[\"pub_binary\"] = df[\"month\"] > df[\"pub_month\"]\n",
    "df[\"pub_binary\"] = df[\"pub_binary\"].astype(int)\n",
    "\n",
    "df.info()"
   ]
  },
  {
   "cell_type": "markdown",
   "metadata": {},
   "source": [
    "Feature Selection"
   ]
  },
  {
   "cell_type": "code",
   "execution_count": 26,
   "metadata": {},
   "outputs": [],
   "source": [
    "item_cnt_month = df['item_cnt_month']"
   ]
  },
  {
   "cell_type": "code",
   "execution_count": 27,
   "metadata": {},
   "outputs": [],
   "source": [
    "df = pd.get_dummies(df)"
   ]
  },
  {
   "cell_type": "code",
   "execution_count": 28,
   "metadata": {},
   "outputs": [],
   "source": [
    "selected_columns = ['month',\n",
    "                    'item_cnt_month_lag_1',\n",
    "                    'item_cnt_week6_lag_1',\n",
    "                    'item_cnt_month_lag_4',\n",
    "                    'item_cnt_month_lag_2',\n",
    "                    'item_cnt_month_lag_3',\n",
    "                    'item_cnt_week5_lag_1',\n",
    "                    'week5_avg_item_cnt_lag_1',\n",
    "                    'month_avg_item_cnt_lag_4',\n",
    "                    'week4_cat_avg_item_cnt_lag_1',\n",
    "                    'week5_avg_item_cnt_lag_2',\n",
    "                    'week5_avg_item_cnt_lag_4',\n",
    "                    'item_cnt_week3_lag_2',\n",
    "                    'item_cnt_week4_lag_1',\n",
    "                    'week3_avg_item_cnt_lag_3',\n",
    "                    'week1_avg_item_cnt_lag_3',\n",
    "                    'month_avg_item_cnt_lag_1',\n",
    "                    'week4_avg_item_cnt_lag_3',\n",
    "                    'week5_cat_avg_item_cnt_lag_1',\n",
    "                    'category_중고등학습서',\n",
    "                    'week1_avg_item_cnt_lag_1',\n",
    "                    'week1_avg_item_cnt_lag_2',\n",
    "                    'item_cnt_week4_lag_2',\n",
    "                    'category_초등학습서',\n",
    "                    'week6_avg_item_cnt_lag_2',\n",
    "                    'month_cat_avg_item_cnt_lag_1',\n",
    "                    'item_cnt_week1_lag_3',\n",
    "                    'category_수험서 자격증',\n",
    "                    'week1_cat_avg_item_cnt_lag_1',\n",
    "                    'week1_avg_item_cnt_lag_4',\n",
    "                    'week3_cat_avg_item_cnt_lag_1']"
   ]
  },
  {
   "cell_type": "code",
   "execution_count": 29,
   "metadata": {},
   "outputs": [],
   "source": [
    "df = df[selected_columns]"
   ]
  },
  {
   "cell_type": "code",
   "execution_count": 30,
   "metadata": {},
   "outputs": [],
   "source": [
    "df = pd.concat([df, item_cnt_month], axis=1)"
   ]
  },
  {
   "cell_type": "code",
   "execution_count": 31,
   "metadata": {},
   "outputs": [
    {
     "name": "stdout",
     "output_type": "stream",
     "text": [
      "<class 'pandas.core.frame.DataFrame'>\n",
      "Int64Index: 154603 entries, 0 to 154602\n",
      "Data columns (total 32 columns):\n",
      " #   Column                        Non-Null Count   Dtype  \n",
      "---  ------                        --------------   -----  \n",
      " 0   month                         154603 non-null  int64  \n",
      " 1   item_cnt_month_lag_1          154603 non-null  float64\n",
      " 2   item_cnt_week6_lag_1          154603 non-null  float64\n",
      " 3   item_cnt_month_lag_4          154603 non-null  float64\n",
      " 4   item_cnt_month_lag_2          154603 non-null  float64\n",
      " 5   item_cnt_month_lag_3          154603 non-null  float64\n",
      " 6   item_cnt_week5_lag_1          154603 non-null  float64\n",
      " 7   week5_avg_item_cnt_lag_1      154603 non-null  float64\n",
      " 8   month_avg_item_cnt_lag_4      154603 non-null  float64\n",
      " 9   week4_cat_avg_item_cnt_lag_1  154603 non-null  float64\n",
      " 10  week5_avg_item_cnt_lag_2      154603 non-null  float64\n",
      " 11  week5_avg_item_cnt_lag_4      154603 non-null  float64\n",
      " 12  item_cnt_week3_lag_2          154603 non-null  float64\n",
      " 13  item_cnt_week4_lag_1          154603 non-null  float64\n",
      " 14  week3_avg_item_cnt_lag_3      154603 non-null  float64\n",
      " 15  week1_avg_item_cnt_lag_3      154603 non-null  float64\n",
      " 16  month_avg_item_cnt_lag_1      154603 non-null  float64\n",
      " 17  week4_avg_item_cnt_lag_3      154603 non-null  float64\n",
      " 18  week5_cat_avg_item_cnt_lag_1  154603 non-null  float64\n",
      " 19  category_중고등학습서               154603 non-null  uint8  \n",
      " 20  week1_avg_item_cnt_lag_1      154603 non-null  float64\n",
      " 21  week1_avg_item_cnt_lag_2      154603 non-null  float64\n",
      " 22  item_cnt_week4_lag_2          154603 non-null  float64\n",
      " 23  category_초등학습서                154603 non-null  uint8  \n",
      " 24  week6_avg_item_cnt_lag_2      154603 non-null  float64\n",
      " 25  month_cat_avg_item_cnt_lag_1  154603 non-null  float64\n",
      " 26  item_cnt_week1_lag_3          154603 non-null  float64\n",
      " 27  category_수험서 자격증              154603 non-null  uint8  \n",
      " 28  week1_cat_avg_item_cnt_lag_1  154603 non-null  float64\n",
      " 29  week1_avg_item_cnt_lag_4      154603 non-null  float64\n",
      " 30  week3_cat_avg_item_cnt_lag_1  154603 non-null  float64\n",
      " 31  item_cnt_month                154603 non-null  float64\n",
      "dtypes: float64(28), int64(1), uint8(3)\n",
      "memory usage: 35.8 MB\n"
     ]
    }
   ],
   "source": [
    "df.info()"
   ]
  },
  {
   "cell_type": "code",
   "execution_count": 32,
   "metadata": {},
   "outputs": [
    {
     "data": {
      "text/html": [
       "<div>\n",
       "<style scoped>\n",
       "    .dataframe tbody tr th:only-of-type {\n",
       "        vertical-align: middle;\n",
       "    }\n",
       "\n",
       "    .dataframe tbody tr th {\n",
       "        vertical-align: top;\n",
       "    }\n",
       "\n",
       "    .dataframe thead th {\n",
       "        text-align: right;\n",
       "    }\n",
       "</style>\n",
       "<table border=\"1\" class=\"dataframe\">\n",
       "  <thead>\n",
       "    <tr style=\"text-align: right;\">\n",
       "      <th></th>\n",
       "      <th>month</th>\n",
       "      <th>item_cnt_month_lag_1</th>\n",
       "      <th>item_cnt_week6_lag_1</th>\n",
       "      <th>item_cnt_month_lag_4</th>\n",
       "      <th>item_cnt_month_lag_2</th>\n",
       "      <th>item_cnt_month_lag_3</th>\n",
       "      <th>item_cnt_week5_lag_1</th>\n",
       "      <th>week5_avg_item_cnt_lag_1</th>\n",
       "      <th>month_avg_item_cnt_lag_4</th>\n",
       "      <th>week4_cat_avg_item_cnt_lag_1</th>\n",
       "      <th>week5_avg_item_cnt_lag_2</th>\n",
       "      <th>week5_avg_item_cnt_lag_4</th>\n",
       "      <th>item_cnt_week3_lag_2</th>\n",
       "      <th>item_cnt_week4_lag_1</th>\n",
       "      <th>week3_avg_item_cnt_lag_3</th>\n",
       "      <th>week1_avg_item_cnt_lag_3</th>\n",
       "      <th>month_avg_item_cnt_lag_1</th>\n",
       "      <th>week4_avg_item_cnt_lag_3</th>\n",
       "      <th>week5_cat_avg_item_cnt_lag_1</th>\n",
       "      <th>category_중고등학습서</th>\n",
       "      <th>week1_avg_item_cnt_lag_1</th>\n",
       "      <th>week1_avg_item_cnt_lag_2</th>\n",
       "      <th>item_cnt_week4_lag_2</th>\n",
       "      <th>category_초등학습서</th>\n",
       "      <th>week6_avg_item_cnt_lag_2</th>\n",
       "      <th>month_cat_avg_item_cnt_lag_1</th>\n",
       "      <th>item_cnt_week1_lag_3</th>\n",
       "      <th>category_수험서 자격증</th>\n",
       "      <th>week1_cat_avg_item_cnt_lag_1</th>\n",
       "      <th>week1_avg_item_cnt_lag_4</th>\n",
       "      <th>week3_cat_avg_item_cnt_lag_1</th>\n",
       "      <th>item_cnt_month</th>\n",
       "    </tr>\n",
       "  </thead>\n",
       "  <tbody>\n",
       "    <tr>\n",
       "      <th>0</th>\n",
       "      <td>5</td>\n",
       "      <td>0.0</td>\n",
       "      <td>0.0</td>\n",
       "      <td>0.0</td>\n",
       "      <td>0.0</td>\n",
       "      <td>0.0</td>\n",
       "      <td>0.0</td>\n",
       "      <td>0.0</td>\n",
       "      <td>0.000000</td>\n",
       "      <td>0.0</td>\n",
       "      <td>0.0</td>\n",
       "      <td>0.000000</td>\n",
       "      <td>0.0</td>\n",
       "      <td>0.0</td>\n",
       "      <td>0.0</td>\n",
       "      <td>0.0</td>\n",
       "      <td>0.0</td>\n",
       "      <td>0.0</td>\n",
       "      <td>0.0</td>\n",
       "      <td>0</td>\n",
       "      <td>0.0</td>\n",
       "      <td>0.0</td>\n",
       "      <td>0.0</td>\n",
       "      <td>0</td>\n",
       "      <td>0.0</td>\n",
       "      <td>0.0</td>\n",
       "      <td>0.0</td>\n",
       "      <td>0</td>\n",
       "      <td>0.0</td>\n",
       "      <td>0.000000</td>\n",
       "      <td>0.0</td>\n",
       "      <td>1.0</td>\n",
       "    </tr>\n",
       "    <tr>\n",
       "      <th>1</th>\n",
       "      <td>5</td>\n",
       "      <td>0.0</td>\n",
       "      <td>0.0</td>\n",
       "      <td>1.0</td>\n",
       "      <td>0.0</td>\n",
       "      <td>0.0</td>\n",
       "      <td>0.0</td>\n",
       "      <td>0.0</td>\n",
       "      <td>2.120691</td>\n",
       "      <td>0.0</td>\n",
       "      <td>0.0</td>\n",
       "      <td>0.385694</td>\n",
       "      <td>0.0</td>\n",
       "      <td>0.0</td>\n",
       "      <td>0.0</td>\n",
       "      <td>0.0</td>\n",
       "      <td>0.0</td>\n",
       "      <td>0.0</td>\n",
       "      <td>0.0</td>\n",
       "      <td>0</td>\n",
       "      <td>0.0</td>\n",
       "      <td>0.0</td>\n",
       "      <td>0.0</td>\n",
       "      <td>0</td>\n",
       "      <td>0.0</td>\n",
       "      <td>0.0</td>\n",
       "      <td>0.0</td>\n",
       "      <td>0</td>\n",
       "      <td>0.0</td>\n",
       "      <td>0.419635</td>\n",
       "      <td>0.0</td>\n",
       "      <td>1.0</td>\n",
       "    </tr>\n",
       "    <tr>\n",
       "      <th>2</th>\n",
       "      <td>5</td>\n",
       "      <td>0.0</td>\n",
       "      <td>0.0</td>\n",
       "      <td>0.0</td>\n",
       "      <td>0.0</td>\n",
       "      <td>0.0</td>\n",
       "      <td>0.0</td>\n",
       "      <td>0.0</td>\n",
       "      <td>0.000000</td>\n",
       "      <td>0.0</td>\n",
       "      <td>0.0</td>\n",
       "      <td>0.000000</td>\n",
       "      <td>0.0</td>\n",
       "      <td>0.0</td>\n",
       "      <td>0.0</td>\n",
       "      <td>0.0</td>\n",
       "      <td>0.0</td>\n",
       "      <td>0.0</td>\n",
       "      <td>0.0</td>\n",
       "      <td>0</td>\n",
       "      <td>0.0</td>\n",
       "      <td>0.0</td>\n",
       "      <td>0.0</td>\n",
       "      <td>0</td>\n",
       "      <td>0.0</td>\n",
       "      <td>0.0</td>\n",
       "      <td>0.0</td>\n",
       "      <td>0</td>\n",
       "      <td>0.0</td>\n",
       "      <td>0.000000</td>\n",
       "      <td>0.0</td>\n",
       "      <td>1.0</td>\n",
       "    </tr>\n",
       "    <tr>\n",
       "      <th>3</th>\n",
       "      <td>5</td>\n",
       "      <td>0.0</td>\n",
       "      <td>0.0</td>\n",
       "      <td>0.0</td>\n",
       "      <td>0.0</td>\n",
       "      <td>0.0</td>\n",
       "      <td>0.0</td>\n",
       "      <td>0.0</td>\n",
       "      <td>0.000000</td>\n",
       "      <td>0.0</td>\n",
       "      <td>0.0</td>\n",
       "      <td>0.000000</td>\n",
       "      <td>0.0</td>\n",
       "      <td>0.0</td>\n",
       "      <td>0.0</td>\n",
       "      <td>0.0</td>\n",
       "      <td>0.0</td>\n",
       "      <td>0.0</td>\n",
       "      <td>0.0</td>\n",
       "      <td>0</td>\n",
       "      <td>0.0</td>\n",
       "      <td>0.0</td>\n",
       "      <td>0.0</td>\n",
       "      <td>0</td>\n",
       "      <td>0.0</td>\n",
       "      <td>0.0</td>\n",
       "      <td>0.0</td>\n",
       "      <td>0</td>\n",
       "      <td>0.0</td>\n",
       "      <td>0.000000</td>\n",
       "      <td>0.0</td>\n",
       "      <td>1.0</td>\n",
       "    </tr>\n",
       "    <tr>\n",
       "      <th>4</th>\n",
       "      <td>5</td>\n",
       "      <td>0.0</td>\n",
       "      <td>0.0</td>\n",
       "      <td>0.0</td>\n",
       "      <td>0.0</td>\n",
       "      <td>0.0</td>\n",
       "      <td>0.0</td>\n",
       "      <td>0.0</td>\n",
       "      <td>0.000000</td>\n",
       "      <td>0.0</td>\n",
       "      <td>0.0</td>\n",
       "      <td>0.000000</td>\n",
       "      <td>0.0</td>\n",
       "      <td>0.0</td>\n",
       "      <td>0.0</td>\n",
       "      <td>0.0</td>\n",
       "      <td>0.0</td>\n",
       "      <td>0.0</td>\n",
       "      <td>0.0</td>\n",
       "      <td>1</td>\n",
       "      <td>0.0</td>\n",
       "      <td>0.0</td>\n",
       "      <td>0.0</td>\n",
       "      <td>0</td>\n",
       "      <td>0.0</td>\n",
       "      <td>0.0</td>\n",
       "      <td>0.0</td>\n",
       "      <td>0</td>\n",
       "      <td>0.0</td>\n",
       "      <td>0.000000</td>\n",
       "      <td>0.0</td>\n",
       "      <td>1.0</td>\n",
       "    </tr>\n",
       "    <tr>\n",
       "      <th>...</th>\n",
       "      <td>...</td>\n",
       "      <td>...</td>\n",
       "      <td>...</td>\n",
       "      <td>...</td>\n",
       "      <td>...</td>\n",
       "      <td>...</td>\n",
       "      <td>...</td>\n",
       "      <td>...</td>\n",
       "      <td>...</td>\n",
       "      <td>...</td>\n",
       "      <td>...</td>\n",
       "      <td>...</td>\n",
       "      <td>...</td>\n",
       "      <td>...</td>\n",
       "      <td>...</td>\n",
       "      <td>...</td>\n",
       "      <td>...</td>\n",
       "      <td>...</td>\n",
       "      <td>...</td>\n",
       "      <td>...</td>\n",
       "      <td>...</td>\n",
       "      <td>...</td>\n",
       "      <td>...</td>\n",
       "      <td>...</td>\n",
       "      <td>...</td>\n",
       "      <td>...</td>\n",
       "      <td>...</td>\n",
       "      <td>...</td>\n",
       "      <td>...</td>\n",
       "      <td>...</td>\n",
       "      <td>...</td>\n",
       "      <td>...</td>\n",
       "    </tr>\n",
       "    <tr>\n",
       "      <th>154598</th>\n",
       "      <td>12</td>\n",
       "      <td>0.0</td>\n",
       "      <td>0.0</td>\n",
       "      <td>0.0</td>\n",
       "      <td>0.0</td>\n",
       "      <td>0.0</td>\n",
       "      <td>0.0</td>\n",
       "      <td>0.0</td>\n",
       "      <td>0.000000</td>\n",
       "      <td>0.0</td>\n",
       "      <td>0.0</td>\n",
       "      <td>0.000000</td>\n",
       "      <td>0.0</td>\n",
       "      <td>0.0</td>\n",
       "      <td>0.0</td>\n",
       "      <td>0.0</td>\n",
       "      <td>0.0</td>\n",
       "      <td>0.0</td>\n",
       "      <td>0.0</td>\n",
       "      <td>1</td>\n",
       "      <td>0.0</td>\n",
       "      <td>0.0</td>\n",
       "      <td>0.0</td>\n",
       "      <td>0</td>\n",
       "      <td>0.0</td>\n",
       "      <td>0.0</td>\n",
       "      <td>0.0</td>\n",
       "      <td>0</td>\n",
       "      <td>0.0</td>\n",
       "      <td>0.000000</td>\n",
       "      <td>0.0</td>\n",
       "      <td>0.0</td>\n",
       "    </tr>\n",
       "    <tr>\n",
       "      <th>154599</th>\n",
       "      <td>12</td>\n",
       "      <td>0.0</td>\n",
       "      <td>0.0</td>\n",
       "      <td>0.0</td>\n",
       "      <td>0.0</td>\n",
       "      <td>0.0</td>\n",
       "      <td>0.0</td>\n",
       "      <td>0.0</td>\n",
       "      <td>0.000000</td>\n",
       "      <td>0.0</td>\n",
       "      <td>0.0</td>\n",
       "      <td>0.000000</td>\n",
       "      <td>0.0</td>\n",
       "      <td>0.0</td>\n",
       "      <td>0.0</td>\n",
       "      <td>0.0</td>\n",
       "      <td>0.0</td>\n",
       "      <td>0.0</td>\n",
       "      <td>0.0</td>\n",
       "      <td>0</td>\n",
       "      <td>0.0</td>\n",
       "      <td>0.0</td>\n",
       "      <td>0.0</td>\n",
       "      <td>0</td>\n",
       "      <td>0.0</td>\n",
       "      <td>0.0</td>\n",
       "      <td>0.0</td>\n",
       "      <td>0</td>\n",
       "      <td>0.0</td>\n",
       "      <td>0.000000</td>\n",
       "      <td>0.0</td>\n",
       "      <td>0.0</td>\n",
       "    </tr>\n",
       "    <tr>\n",
       "      <th>154600</th>\n",
       "      <td>12</td>\n",
       "      <td>0.0</td>\n",
       "      <td>0.0</td>\n",
       "      <td>0.0</td>\n",
       "      <td>0.0</td>\n",
       "      <td>0.0</td>\n",
       "      <td>0.0</td>\n",
       "      <td>0.0</td>\n",
       "      <td>0.000000</td>\n",
       "      <td>0.0</td>\n",
       "      <td>0.0</td>\n",
       "      <td>0.000000</td>\n",
       "      <td>0.0</td>\n",
       "      <td>0.0</td>\n",
       "      <td>0.0</td>\n",
       "      <td>0.0</td>\n",
       "      <td>0.0</td>\n",
       "      <td>0.0</td>\n",
       "      <td>0.0</td>\n",
       "      <td>0</td>\n",
       "      <td>0.0</td>\n",
       "      <td>0.0</td>\n",
       "      <td>0.0</td>\n",
       "      <td>0</td>\n",
       "      <td>0.0</td>\n",
       "      <td>0.0</td>\n",
       "      <td>0.0</td>\n",
       "      <td>0</td>\n",
       "      <td>0.0</td>\n",
       "      <td>0.000000</td>\n",
       "      <td>0.0</td>\n",
       "      <td>0.0</td>\n",
       "    </tr>\n",
       "    <tr>\n",
       "      <th>154601</th>\n",
       "      <td>12</td>\n",
       "      <td>0.0</td>\n",
       "      <td>0.0</td>\n",
       "      <td>0.0</td>\n",
       "      <td>0.0</td>\n",
       "      <td>0.0</td>\n",
       "      <td>0.0</td>\n",
       "      <td>0.0</td>\n",
       "      <td>0.000000</td>\n",
       "      <td>0.0</td>\n",
       "      <td>0.0</td>\n",
       "      <td>0.000000</td>\n",
       "      <td>0.0</td>\n",
       "      <td>0.0</td>\n",
       "      <td>0.0</td>\n",
       "      <td>0.0</td>\n",
       "      <td>0.0</td>\n",
       "      <td>0.0</td>\n",
       "      <td>0.0</td>\n",
       "      <td>0</td>\n",
       "      <td>0.0</td>\n",
       "      <td>0.0</td>\n",
       "      <td>0.0</td>\n",
       "      <td>0</td>\n",
       "      <td>0.0</td>\n",
       "      <td>0.0</td>\n",
       "      <td>0.0</td>\n",
       "      <td>1</td>\n",
       "      <td>0.0</td>\n",
       "      <td>0.000000</td>\n",
       "      <td>0.0</td>\n",
       "      <td>0.0</td>\n",
       "    </tr>\n",
       "    <tr>\n",
       "      <th>154602</th>\n",
       "      <td>12</td>\n",
       "      <td>0.0</td>\n",
       "      <td>0.0</td>\n",
       "      <td>0.0</td>\n",
       "      <td>0.0</td>\n",
       "      <td>0.0</td>\n",
       "      <td>0.0</td>\n",
       "      <td>0.0</td>\n",
       "      <td>0.000000</td>\n",
       "      <td>0.0</td>\n",
       "      <td>0.0</td>\n",
       "      <td>0.000000</td>\n",
       "      <td>0.0</td>\n",
       "      <td>0.0</td>\n",
       "      <td>0.0</td>\n",
       "      <td>0.0</td>\n",
       "      <td>0.0</td>\n",
       "      <td>0.0</td>\n",
       "      <td>0.0</td>\n",
       "      <td>0</td>\n",
       "      <td>0.0</td>\n",
       "      <td>0.0</td>\n",
       "      <td>0.0</td>\n",
       "      <td>0</td>\n",
       "      <td>0.0</td>\n",
       "      <td>0.0</td>\n",
       "      <td>0.0</td>\n",
       "      <td>0</td>\n",
       "      <td>0.0</td>\n",
       "      <td>0.000000</td>\n",
       "      <td>0.0</td>\n",
       "      <td>0.0</td>\n",
       "    </tr>\n",
       "  </tbody>\n",
       "</table>\n",
       "<p>154603 rows × 32 columns</p>\n",
       "</div>"
      ],
      "text/plain": [
       "        month  item_cnt_month_lag_1  item_cnt_week6_lag_1  \\\n",
       "0           5                   0.0                   0.0   \n",
       "1           5                   0.0                   0.0   \n",
       "2           5                   0.0                   0.0   \n",
       "3           5                   0.0                   0.0   \n",
       "4           5                   0.0                   0.0   \n",
       "...       ...                   ...                   ...   \n",
       "154598     12                   0.0                   0.0   \n",
       "154599     12                   0.0                   0.0   \n",
       "154600     12                   0.0                   0.0   \n",
       "154601     12                   0.0                   0.0   \n",
       "154602     12                   0.0                   0.0   \n",
       "\n",
       "        item_cnt_month_lag_4  item_cnt_month_lag_2  item_cnt_month_lag_3  \\\n",
       "0                        0.0                   0.0                   0.0   \n",
       "1                        1.0                   0.0                   0.0   \n",
       "2                        0.0                   0.0                   0.0   \n",
       "3                        0.0                   0.0                   0.0   \n",
       "4                        0.0                   0.0                   0.0   \n",
       "...                      ...                   ...                   ...   \n",
       "154598                   0.0                   0.0                   0.0   \n",
       "154599                   0.0                   0.0                   0.0   \n",
       "154600                   0.0                   0.0                   0.0   \n",
       "154601                   0.0                   0.0                   0.0   \n",
       "154602                   0.0                   0.0                   0.0   \n",
       "\n",
       "        item_cnt_week5_lag_1  week5_avg_item_cnt_lag_1  \\\n",
       "0                        0.0                       0.0   \n",
       "1                        0.0                       0.0   \n",
       "2                        0.0                       0.0   \n",
       "3                        0.0                       0.0   \n",
       "4                        0.0                       0.0   \n",
       "...                      ...                       ...   \n",
       "154598                   0.0                       0.0   \n",
       "154599                   0.0                       0.0   \n",
       "154600                   0.0                       0.0   \n",
       "154601                   0.0                       0.0   \n",
       "154602                   0.0                       0.0   \n",
       "\n",
       "        month_avg_item_cnt_lag_4  week4_cat_avg_item_cnt_lag_1  \\\n",
       "0                       0.000000                           0.0   \n",
       "1                       2.120691                           0.0   \n",
       "2                       0.000000                           0.0   \n",
       "3                       0.000000                           0.0   \n",
       "4                       0.000000                           0.0   \n",
       "...                          ...                           ...   \n",
       "154598                  0.000000                           0.0   \n",
       "154599                  0.000000                           0.0   \n",
       "154600                  0.000000                           0.0   \n",
       "154601                  0.000000                           0.0   \n",
       "154602                  0.000000                           0.0   \n",
       "\n",
       "        week5_avg_item_cnt_lag_2  week5_avg_item_cnt_lag_4  \\\n",
       "0                            0.0                  0.000000   \n",
       "1                            0.0                  0.385694   \n",
       "2                            0.0                  0.000000   \n",
       "3                            0.0                  0.000000   \n",
       "4                            0.0                  0.000000   \n",
       "...                          ...                       ...   \n",
       "154598                       0.0                  0.000000   \n",
       "154599                       0.0                  0.000000   \n",
       "154600                       0.0                  0.000000   \n",
       "154601                       0.0                  0.000000   \n",
       "154602                       0.0                  0.000000   \n",
       "\n",
       "        item_cnt_week3_lag_2  item_cnt_week4_lag_1  week3_avg_item_cnt_lag_3  \\\n",
       "0                        0.0                   0.0                       0.0   \n",
       "1                        0.0                   0.0                       0.0   \n",
       "2                        0.0                   0.0                       0.0   \n",
       "3                        0.0                   0.0                       0.0   \n",
       "4                        0.0                   0.0                       0.0   \n",
       "...                      ...                   ...                       ...   \n",
       "154598                   0.0                   0.0                       0.0   \n",
       "154599                   0.0                   0.0                       0.0   \n",
       "154600                   0.0                   0.0                       0.0   \n",
       "154601                   0.0                   0.0                       0.0   \n",
       "154602                   0.0                   0.0                       0.0   \n",
       "\n",
       "        week1_avg_item_cnt_lag_3  month_avg_item_cnt_lag_1  \\\n",
       "0                            0.0                       0.0   \n",
       "1                            0.0                       0.0   \n",
       "2                            0.0                       0.0   \n",
       "3                            0.0                       0.0   \n",
       "4                            0.0                       0.0   \n",
       "...                          ...                       ...   \n",
       "154598                       0.0                       0.0   \n",
       "154599                       0.0                       0.0   \n",
       "154600                       0.0                       0.0   \n",
       "154601                       0.0                       0.0   \n",
       "154602                       0.0                       0.0   \n",
       "\n",
       "        week4_avg_item_cnt_lag_3  week5_cat_avg_item_cnt_lag_1  \\\n",
       "0                            0.0                           0.0   \n",
       "1                            0.0                           0.0   \n",
       "2                            0.0                           0.0   \n",
       "3                            0.0                           0.0   \n",
       "4                            0.0                           0.0   \n",
       "...                          ...                           ...   \n",
       "154598                       0.0                           0.0   \n",
       "154599                       0.0                           0.0   \n",
       "154600                       0.0                           0.0   \n",
       "154601                       0.0                           0.0   \n",
       "154602                       0.0                           0.0   \n",
       "\n",
       "        category_중고등학습서  week1_avg_item_cnt_lag_1  week1_avg_item_cnt_lag_2  \\\n",
       "0                     0                       0.0                       0.0   \n",
       "1                     0                       0.0                       0.0   \n",
       "2                     0                       0.0                       0.0   \n",
       "3                     0                       0.0                       0.0   \n",
       "4                     1                       0.0                       0.0   \n",
       "...                 ...                       ...                       ...   \n",
       "154598                1                       0.0                       0.0   \n",
       "154599                0                       0.0                       0.0   \n",
       "154600                0                       0.0                       0.0   \n",
       "154601                0                       0.0                       0.0   \n",
       "154602                0                       0.0                       0.0   \n",
       "\n",
       "        item_cnt_week4_lag_2  category_초등학습서  week6_avg_item_cnt_lag_2  \\\n",
       "0                        0.0               0                       0.0   \n",
       "1                        0.0               0                       0.0   \n",
       "2                        0.0               0                       0.0   \n",
       "3                        0.0               0                       0.0   \n",
       "4                        0.0               0                       0.0   \n",
       "...                      ...             ...                       ...   \n",
       "154598                   0.0               0                       0.0   \n",
       "154599                   0.0               0                       0.0   \n",
       "154600                   0.0               0                       0.0   \n",
       "154601                   0.0               0                       0.0   \n",
       "154602                   0.0               0                       0.0   \n",
       "\n",
       "        month_cat_avg_item_cnt_lag_1  item_cnt_week1_lag_3  category_수험서 자격증  \\\n",
       "0                                0.0                   0.0                 0   \n",
       "1                                0.0                   0.0                 0   \n",
       "2                                0.0                   0.0                 0   \n",
       "3                                0.0                   0.0                 0   \n",
       "4                                0.0                   0.0                 0   \n",
       "...                              ...                   ...               ...   \n",
       "154598                           0.0                   0.0                 0   \n",
       "154599                           0.0                   0.0                 0   \n",
       "154600                           0.0                   0.0                 0   \n",
       "154601                           0.0                   0.0                 1   \n",
       "154602                           0.0                   0.0                 0   \n",
       "\n",
       "        week1_cat_avg_item_cnt_lag_1  week1_avg_item_cnt_lag_4  \\\n",
       "0                                0.0                  0.000000   \n",
       "1                                0.0                  0.419635   \n",
       "2                                0.0                  0.000000   \n",
       "3                                0.0                  0.000000   \n",
       "4                                0.0                  0.000000   \n",
       "...                              ...                       ...   \n",
       "154598                           0.0                  0.000000   \n",
       "154599                           0.0                  0.000000   \n",
       "154600                           0.0                  0.000000   \n",
       "154601                           0.0                  0.000000   \n",
       "154602                           0.0                  0.000000   \n",
       "\n",
       "        week3_cat_avg_item_cnt_lag_1  item_cnt_month  \n",
       "0                                0.0             1.0  \n",
       "1                                0.0             1.0  \n",
       "2                                0.0             1.0  \n",
       "3                                0.0             1.0  \n",
       "4                                0.0             1.0  \n",
       "...                              ...             ...  \n",
       "154598                           0.0             0.0  \n",
       "154599                           0.0             0.0  \n",
       "154600                           0.0             0.0  \n",
       "154601                           0.0             0.0  \n",
       "154602                           0.0             0.0  \n",
       "\n",
       "[154603 rows x 32 columns]"
      ]
     },
     "execution_count": 32,
     "metadata": {},
     "output_type": "execute_result"
    }
   ],
   "source": [
    "df"
   ]
  },
  {
   "cell_type": "markdown",
   "metadata": {},
   "source": [
    "pickle 형태로 분석에 사용할 최종 데이터 저장"
   ]
  },
  {
   "cell_type": "code",
   "execution_count": 33,
   "metadata": {},
   "outputs": [],
   "source": [
    "df.to_pickle('../dat/feature_3.pkl')"
   ]
  },
  {
   "cell_type": "markdown",
   "metadata": {},
   "source": [
    "# End"
   ]
  }
 ],
 "metadata": {
  "kernelspec": {
   "display_name": "Python 3 (ipykernel)",
   "language": "python",
   "name": "python3"
  },
  "language_info": {
   "codemirror_mode": {
    "name": "ipython",
    "version": 3
   },
   "file_extension": ".py",
   "mimetype": "text/x-python",
   "name": "python",
   "nbconvert_exporter": "python",
   "pygments_lexer": "ipython3",
   "version": "3.9.7"
  }
 },
 "nbformat": 4,
 "nbformat_minor": 4
}
