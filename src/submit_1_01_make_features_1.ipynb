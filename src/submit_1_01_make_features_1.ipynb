{
 "cells": [
  {
   "cell_type": "markdown",
   "metadata": {},
   "source": [
    "# Make Features"
   ]
  },
  {
   "cell_type": "code",
   "execution_count": 1,
   "metadata": {},
   "outputs": [],
   "source": [
    "import numpy as np\n",
    "import pandas as pd\n",
    "import seaborn as sns\n",
    "import matplotlib.pyplot as plt\n",
    "from matplotlib import font_manager, rc\n",
    "%matplotlib inline\n",
    "import pickle\n",
    "import os"
   ]
  },
  {
   "cell_type": "markdown",
   "metadata": {},
   "source": [
    "#### Load Data"
   ]
  },
  {
   "cell_type": "code",
   "execution_count": 2,
   "metadata": {},
   "outputs": [],
   "source": [
    "train = pd.read_csv(os.path.abspath(\"../dat\")+'/train.csv', encoding='cp949')\n",
    "test = pd.read_csv(os.path.abspath(\"../dat\")+'/test.csv', encoding='cp949')\n",
    "data = pd.read_csv(os.path.abspath(\"../dat\")+'/book_info.csv', encoding='cp949')"
   ]
  },
  {
   "cell_type": "code",
   "execution_count": 3,
   "metadata": {},
   "outputs": [
    {
     "data": {
      "text/plain": [
       "item_id       0\n",
       "category      0\n",
       "author       60\n",
       "publisher     0\n",
       "pub_date     70\n",
       "dtype: int64"
      ]
     },
     "execution_count": 3,
     "metadata": {},
     "output_type": "execute_result"
    }
   ],
   "source": [
    "# 결측값 확인\n",
    "\n",
    "data.isnull().sum()"
   ]
  },
  {
   "cell_type": "markdown",
   "metadata": {},
   "source": [
    "### Feature Engineering"
   ]
  },
  {
   "cell_type": "code",
   "execution_count": 4,
   "metadata": {},
   "outputs": [
    {
     "data": {
      "text/plain": [
       "(1014, 13481)"
      ]
     },
     "execution_count": 4,
     "metadata": {},
     "output_type": "execute_result"
    }
   ],
   "source": [
    "# 유의사항) Test Data에 있는 책 중에 1014개는 Train Data에는 없음.\n",
    "\n",
    "len(list(set(test.item_id) - set(test.item_id).intersection(set(train.item_id)))), len(test)"
   ]
  },
  {
   "cell_type": "code",
   "execution_count": 5,
   "metadata": {},
   "outputs": [],
   "source": [
    "# 월별 도서별 판매량 형식으로 데이터 변환\n",
    "\n",
    "df = train.groupby(['month','item_id'])['count'].agg([('item_cnt_month', 'sum')]).reset_index()"
   ]
  },
  {
   "cell_type": "code",
   "execution_count": 6,
   "metadata": {},
   "outputs": [],
   "source": [
    "# target value(월별 도서 판매량)를 최대 20으로 조정\n",
    "\n",
    "df['item_cnt_month'] = df['item_cnt_month'].clip(0,20)"
   ]
  },
  {
   "cell_type": "code",
   "execution_count": 7,
   "metadata": {},
   "outputs": [],
   "source": [
    "# Add a book category feature\n",
    "\n",
    "df = pd.merge(df, \n",
    "              train.drop_duplicates(subset='item_id').loc[:,['item_id', 'category']], \n",
    "              on='item_id', how='left')"
   ]
  },
  {
   "cell_type": "markdown",
   "metadata": {},
   "source": [
    "#### Append test set"
   ]
  },
  {
   "cell_type": "code",
   "execution_count": 8,
   "metadata": {},
   "outputs": [],
   "source": [
    "# 학습 데이터와 같은 feature를 만들기 위해 병합\n",
    "\n",
    "test['month'] = 12  \n",
    "df = pd.concat([df, test], ignore_index=True, sort=False).fillna(0)"
   ]
  },
  {
   "cell_type": "code",
   "execution_count": 9,
   "metadata": {},
   "outputs": [],
   "source": [
    "# data의 feature를 df에 추가 (Add a book title, author, publisher, pub_date feature)\n",
    "\n",
    "df = pd.merge(df, \n",
    "              data.drop_duplicates(subset='item_id').loc[:,['item_id', 'author', 'publisher', 'pub_date']], \n",
    "              on='item_id', how='left')"
   ]
  },
  {
   "cell_type": "markdown",
   "metadata": {},
   "source": [
    "#### Add lag features"
   ]
  },
  {
   "cell_type": "code",
   "execution_count": 10,
   "metadata": {},
   "outputs": [],
   "source": [
    "# 시차변수(1개월, 2개월, 3개월, 4개월 전 판매량) 생성\n",
    "\n",
    "def lag_feature(df, lags, col):\n",
    "    tmp = df[['month','item_id',col]]\n",
    "    for i in lags:\n",
    "        shifted = tmp.copy()\n",
    "        shifted.columns = ['month','item_id', col+'_lag_{}'.format(i)]\n",
    "        shifted['month'] += i\n",
    "        df = pd.merge(df, shifted, on=['month','item_id'], how='left')\n",
    "    return df"
   ]
  },
  {
   "cell_type": "code",
   "execution_count": 11,
   "metadata": {},
   "outputs": [],
   "source": [
    "df = lag_feature(df, [1,2,3,4], 'item_cnt_month')"
   ]
  },
  {
   "cell_type": "code",
   "execution_count": 12,
   "metadata": {},
   "outputs": [],
   "source": [
    "# 도서별 월평균 판매량\n",
    "# month_item_avg_item_cnt_lag_1,2,3,4\n",
    "\n",
    "group = df.groupby(['month', 'item_id'])['item_cnt_month'].agg([('month_item_avg_item_cnt', 'mean')]).reset_index()\n",
    "df = pd.merge(df, group, on=['month','item_id'], how='left')\n",
    "df = lag_feature(df, [1,2,3,4], 'month_item_avg_item_cnt')\n",
    "df.drop(['month_item_avg_item_cnt'], axis=1, inplace=True)"
   ]
  },
  {
   "cell_type": "code",
   "execution_count": 13,
   "metadata": {},
   "outputs": [],
   "source": [
    "# 도서 분야별 월평균 판매량\n",
    "# month_cat_avg_item_cnt_lag_1,2,3,4\n",
    "\n",
    "group = df.groupby(['month', 'category'])['item_cnt_month'].agg([('month_cat_avg_item_cnt', 'mean')]).reset_index()\n",
    "df = pd.merge(df, group, on=['month', 'category'], how='left')\n",
    "df = lag_feature(df, [1,2,3,4], 'month_cat_avg_item_cnt')\n",
    "df.drop(['month_cat_avg_item_cnt'], axis=1, inplace=True)"
   ]
  },
  {
   "cell_type": "markdown",
   "metadata": {},
   "source": [
    "#### 추가 속성"
   ]
  },
  {
   "cell_type": "code",
   "execution_count": 14,
   "metadata": {},
   "outputs": [],
   "source": [
    "# 월별 Count Lag => cat_delta_cnt_lag\n",
    "\n",
    "group = df.groupby(['category']).agg({'item_cnt_month': ['mean']})\n",
    "group.columns = ['category_avg_cnt_month']\n",
    "group.reset_index(inplace=True)\n",
    "\n",
    "df = pd.merge(df, group, on=['category'], how='left')\n",
    "df['category_avg_cnt_month'] = df['category_avg_cnt_month'].astype(np.float16)\n",
    "\n",
    "###\n",
    "group = df.groupby(['month','category']).agg({'item_cnt_month': ['mean']})\n",
    "group.columns = ['month_category_avg_cnt_month']\n",
    "group.reset_index(inplace=True)\n",
    "\n",
    "df = pd.merge(df, group, on=['month','category'], how='left')\n",
    "df['month_category_avg_cnt_month'] = df['month_category_avg_cnt_month'].astype(np.float16)\n",
    "\n",
    "###\n",
    "lags = [1,2,3,4]\n",
    "df = lag_feature(df, lags, 'month_category_avg_cnt_month')\n",
    "\n",
    "for i in lags:\n",
    "    df['delta_cnt_lag_'+str(i)] = \\\n",
    "        (df['month_category_avg_cnt_month_lag_'+str(i)] - df['category_avg_cnt_month']) / df['category_avg_cnt_month']\n",
    "    \n",
    "def select_trend(row):\n",
    "    for i in lags:\n",
    "        if row['delta_cnt_lag_'+str(i)]:\n",
    "            return row['delta_cnt_lag_'+str(i)]\n",
    "    return 0\n",
    "\n",
    "# delta_cnt_lag \n",
    "df['cat_delta_cnt_lag'] = df.apply(select_trend, axis=1)\n",
    "df['cat_delta_cnt_lag'] = df['cat_delta_cnt_lag'].astype(np.float16)\n",
    "df['cat_delta_cnt_lag'].fillna(0, inplace=True)\n",
    "\n",
    "fetures_to_drop = ['category_avg_cnt_month', 'month_category_avg_cnt_month']\n",
    "for i in lags:\n",
    "    fetures_to_drop += ['month_category_avg_cnt_month_lag_'+str(i)]\n",
    "    fetures_to_drop += ['delta_cnt_lag_'+str(i)]\n",
    "\n",
    "df.drop(fetures_to_drop, axis=1, inplace=True)"
   ]
  },
  {
   "cell_type": "markdown",
   "metadata": {},
   "source": [
    "#### (추가 feature) 도서 작가별 월평균 판매량"
   ]
  },
  {
   "cell_type": "code",
   "execution_count": 15,
   "metadata": {},
   "outputs": [],
   "source": [
    "# 도서 작가별 월평균 판매량\n",
    "#month_aut_avg_item_cnt_lag_1,2,3,4\n",
    "\n",
    "group = df.groupby(['month', 'author'])['item_cnt_month'].agg([('month_aut_avg_item_cnt', 'mean')]).reset_index()\n",
    "df = pd.merge(df, group, on=['month', 'author'], how='left')\n",
    "df = lag_feature(df, [1,2,3,4], 'month_aut_avg_item_cnt')\n",
    "df.drop(['month_aut_avg_item_cnt'], axis=1, inplace=True)"
   ]
  },
  {
   "cell_type": "markdown",
   "metadata": {},
   "source": [
    "#### (추가 feature) 도서 출판사별 월평균 판매량"
   ]
  },
  {
   "cell_type": "code",
   "execution_count": 16,
   "metadata": {},
   "outputs": [],
   "source": [
    "# 도서 출판사별 월평균 판매량\n",
    "#month_pub_avg_item_cnt_lag_1,2,3,4\n",
    "\n",
    "group = df.groupby(['month', 'publisher'])['item_cnt_month'].agg([('month_pub_avg_item_cnt', 'mean')]).reset_index()\n",
    "df = pd.merge(df, group, on=['month', 'publisher'], how='left')\n",
    "df = lag_feature(df, [1,2,3,4], 'month_pub_avg_item_cnt')\n",
    "df.drop(['month_pub_avg_item_cnt'], axis=1, inplace=True)"
   ]
  },
  {
   "cell_type": "markdown",
   "metadata": {},
   "source": [
    "#### (추가 feature) 출간일(pub_date)별 => pub_date_year"
   ]
  },
  {
   "cell_type": "code",
   "execution_count": 17,
   "metadata": {},
   "outputs": [],
   "source": [
    "# 출간일(pub_date)별=>pub_date_year\n",
    "df['pub_date_year'] = df['pub_date'].astype('Int32') // 100\n",
    "\n",
    "# NA는 중앙값으로 채움\n",
    "df['pub_date_year'].fillna(df['pub_date_year'].median(), inplace=True)\n",
    "df = df.drop(columns=['pub_date'])"
   ]
  },
  {
   "cell_type": "markdown",
   "metadata": {},
   "source": [
    "#### 범주의 종류가 많은 feature 제거\n",
    "=> 제거하지 않고 `JamesSteinEncoder`로 사용 고려 !!!"
   ]
  },
  {
   "cell_type": "code",
   "execution_count": 18,
   "metadata": {},
   "outputs": [],
   "source": [
    "df = df.drop(columns=['author', 'publisher'])"
   ]
  },
  {
   "cell_type": "markdown",
   "metadata": {},
   "source": [
    "#### Final data preparation"
   ]
  },
  {
   "cell_type": "code",
   "execution_count": 19,
   "metadata": {},
   "outputs": [],
   "source": [
    "# Lag feature를 적용할 수 없는 1월부터 4월 데이터 제거\n",
    "\n",
    "df = df[df.month > 4]"
   ]
  },
  {
   "cell_type": "code",
   "execution_count": 20,
   "metadata": {},
   "outputs": [],
   "source": [
    "# 결측값 0으로 치환\n",
    "\n",
    "def fill_na(df):\n",
    "    df = df.replace([np.inf, -np.inf], np.nan)\n",
    "    for col in df.columns:\n",
    "        if ('_lag_' in col) & (df[col].isnull().any()):\n",
    "            if ('item_cnt' in col):\n",
    "                df[col].fillna(0, inplace=True)\n",
    "                \n",
    "    return df\n",
    "\n",
    "df = fill_na(df)"
   ]
  },
  {
   "cell_type": "code",
   "execution_count": 21,
   "metadata": {},
   "outputs": [
    {
     "data": {
      "text/html": [
       "<div>\n",
       "<style scoped>\n",
       "    .dataframe tbody tr th:only-of-type {\n",
       "        vertical-align: middle;\n",
       "    }\n",
       "\n",
       "    .dataframe tbody tr th {\n",
       "        vertical-align: top;\n",
       "    }\n",
       "\n",
       "    .dataframe thead th {\n",
       "        text-align: right;\n",
       "    }\n",
       "</style>\n",
       "<table border=\"1\" class=\"dataframe\">\n",
       "  <thead>\n",
       "    <tr style=\"text-align: right;\">\n",
       "      <th></th>\n",
       "      <th>month</th>\n",
       "      <th>item_id</th>\n",
       "      <th>item_cnt_month</th>\n",
       "      <th>category</th>\n",
       "      <th>item_cnt_month_lag_1</th>\n",
       "      <th>item_cnt_month_lag_2</th>\n",
       "      <th>item_cnt_month_lag_3</th>\n",
       "      <th>item_cnt_month_lag_4</th>\n",
       "      <th>month_item_avg_item_cnt_lag_1</th>\n",
       "      <th>month_item_avg_item_cnt_lag_2</th>\n",
       "      <th>...</th>\n",
       "      <th>cat_delta_cnt_lag</th>\n",
       "      <th>month_aut_avg_item_cnt_lag_1</th>\n",
       "      <th>month_aut_avg_item_cnt_lag_2</th>\n",
       "      <th>month_aut_avg_item_cnt_lag_3</th>\n",
       "      <th>month_aut_avg_item_cnt_lag_4</th>\n",
       "      <th>month_pub_avg_item_cnt_lag_1</th>\n",
       "      <th>month_pub_avg_item_cnt_lag_2</th>\n",
       "      <th>month_pub_avg_item_cnt_lag_3</th>\n",
       "      <th>month_pub_avg_item_cnt_lag_4</th>\n",
       "      <th>pub_date_year</th>\n",
       "    </tr>\n",
       "  </thead>\n",
       "  <tbody>\n",
       "    <tr>\n",
       "      <th>83204</th>\n",
       "      <td>5</td>\n",
       "      <td>100000</td>\n",
       "      <td>1.0</td>\n",
       "      <td>잡지</td>\n",
       "      <td>0.0</td>\n",
       "      <td>0.0</td>\n",
       "      <td>0.0</td>\n",
       "      <td>0.0</td>\n",
       "      <td>0.0</td>\n",
       "      <td>0.0</td>\n",
       "      <td>...</td>\n",
       "      <td>0.0</td>\n",
       "      <td>0.0</td>\n",
       "      <td>0.0</td>\n",
       "      <td>0.0</td>\n",
       "      <td>0.0</td>\n",
       "      <td>0.0</td>\n",
       "      <td>0.0</td>\n",
       "      <td>0.0</td>\n",
       "      <td>0.0</td>\n",
       "      <td>2014</td>\n",
       "    </tr>\n",
       "    <tr>\n",
       "      <th>83205</th>\n",
       "      <td>5</td>\n",
       "      <td>100004</td>\n",
       "      <td>1.0</td>\n",
       "      <td>전집</td>\n",
       "      <td>0.0</td>\n",
       "      <td>0.0</td>\n",
       "      <td>0.0</td>\n",
       "      <td>1.0</td>\n",
       "      <td>0.0</td>\n",
       "      <td>0.0</td>\n",
       "      <td>...</td>\n",
       "      <td>0.0</td>\n",
       "      <td>0.0</td>\n",
       "      <td>0.0</td>\n",
       "      <td>0.0</td>\n",
       "      <td>1.0</td>\n",
       "      <td>0.0</td>\n",
       "      <td>0.0</td>\n",
       "      <td>0.0</td>\n",
       "      <td>1.0</td>\n",
       "      <td>2014</td>\n",
       "    </tr>\n",
       "    <tr>\n",
       "      <th>83206</th>\n",
       "      <td>5</td>\n",
       "      <td>100030</td>\n",
       "      <td>1.0</td>\n",
       "      <td>잡지</td>\n",
       "      <td>0.0</td>\n",
       "      <td>0.0</td>\n",
       "      <td>0.0</td>\n",
       "      <td>0.0</td>\n",
       "      <td>0.0</td>\n",
       "      <td>0.0</td>\n",
       "      <td>...</td>\n",
       "      <td>0.0</td>\n",
       "      <td>0.0</td>\n",
       "      <td>0.0</td>\n",
       "      <td>0.0</td>\n",
       "      <td>0.0</td>\n",
       "      <td>0.0</td>\n",
       "      <td>0.0</td>\n",
       "      <td>0.0</td>\n",
       "      <td>0.0</td>\n",
       "      <td>2014</td>\n",
       "    </tr>\n",
       "    <tr>\n",
       "      <th>83207</th>\n",
       "      <td>5</td>\n",
       "      <td>100038</td>\n",
       "      <td>1.0</td>\n",
       "      <td>청소년</td>\n",
       "      <td>0.0</td>\n",
       "      <td>0.0</td>\n",
       "      <td>0.0</td>\n",
       "      <td>0.0</td>\n",
       "      <td>0.0</td>\n",
       "      <td>0.0</td>\n",
       "      <td>...</td>\n",
       "      <td>0.0</td>\n",
       "      <td>0.0</td>\n",
       "      <td>0.0</td>\n",
       "      <td>0.0</td>\n",
       "      <td>0.0</td>\n",
       "      <td>0.0</td>\n",
       "      <td>0.0</td>\n",
       "      <td>0.0</td>\n",
       "      <td>0.0</td>\n",
       "      <td>2012</td>\n",
       "    </tr>\n",
       "    <tr>\n",
       "      <th>83208</th>\n",
       "      <td>5</td>\n",
       "      <td>100040</td>\n",
       "      <td>1.0</td>\n",
       "      <td>중고등학습서</td>\n",
       "      <td>0.0</td>\n",
       "      <td>0.0</td>\n",
       "      <td>0.0</td>\n",
       "      <td>0.0</td>\n",
       "      <td>0.0</td>\n",
       "      <td>0.0</td>\n",
       "      <td>...</td>\n",
       "      <td>0.0</td>\n",
       "      <td>0.0</td>\n",
       "      <td>0.0</td>\n",
       "      <td>0.0</td>\n",
       "      <td>0.0</td>\n",
       "      <td>0.0</td>\n",
       "      <td>0.0</td>\n",
       "      <td>0.0</td>\n",
       "      <td>0.0</td>\n",
       "      <td>2014</td>\n",
       "    </tr>\n",
       "    <tr>\n",
       "      <th>...</th>\n",
       "      <td>...</td>\n",
       "      <td>...</td>\n",
       "      <td>...</td>\n",
       "      <td>...</td>\n",
       "      <td>...</td>\n",
       "      <td>...</td>\n",
       "      <td>...</td>\n",
       "      <td>...</td>\n",
       "      <td>...</td>\n",
       "      <td>...</td>\n",
       "      <td>...</td>\n",
       "      <td>...</td>\n",
       "      <td>...</td>\n",
       "      <td>...</td>\n",
       "      <td>...</td>\n",
       "      <td>...</td>\n",
       "      <td>...</td>\n",
       "      <td>...</td>\n",
       "      <td>...</td>\n",
       "      <td>...</td>\n",
       "      <td>...</td>\n",
       "    </tr>\n",
       "    <tr>\n",
       "      <th>237802</th>\n",
       "      <td>12</td>\n",
       "      <td>203058</td>\n",
       "      <td>0.0</td>\n",
       "      <td>중고등학습서</td>\n",
       "      <td>0.0</td>\n",
       "      <td>0.0</td>\n",
       "      <td>0.0</td>\n",
       "      <td>0.0</td>\n",
       "      <td>0.0</td>\n",
       "      <td>0.0</td>\n",
       "      <td>...</td>\n",
       "      <td>0.0</td>\n",
       "      <td>0.0</td>\n",
       "      <td>0.0</td>\n",
       "      <td>0.0</td>\n",
       "      <td>0.0</td>\n",
       "      <td>0.0</td>\n",
       "      <td>0.0</td>\n",
       "      <td>0.0</td>\n",
       "      <td>0.0</td>\n",
       "      <td>2014</td>\n",
       "    </tr>\n",
       "    <tr>\n",
       "      <th>237803</th>\n",
       "      <td>12</td>\n",
       "      <td>203061</td>\n",
       "      <td>0.0</td>\n",
       "      <td>IT 모바일</td>\n",
       "      <td>0.0</td>\n",
       "      <td>0.0</td>\n",
       "      <td>0.0</td>\n",
       "      <td>0.0</td>\n",
       "      <td>0.0</td>\n",
       "      <td>0.0</td>\n",
       "      <td>...</td>\n",
       "      <td>0.0</td>\n",
       "      <td>0.0</td>\n",
       "      <td>0.0</td>\n",
       "      <td>0.0</td>\n",
       "      <td>0.0</td>\n",
       "      <td>0.0</td>\n",
       "      <td>0.0</td>\n",
       "      <td>0.0</td>\n",
       "      <td>0.0</td>\n",
       "      <td>2014</td>\n",
       "    </tr>\n",
       "    <tr>\n",
       "      <th>237804</th>\n",
       "      <td>12</td>\n",
       "      <td>203065</td>\n",
       "      <td>0.0</td>\n",
       "      <td>국어 외국어 사전</td>\n",
       "      <td>0.0</td>\n",
       "      <td>0.0</td>\n",
       "      <td>0.0</td>\n",
       "      <td>0.0</td>\n",
       "      <td>0.0</td>\n",
       "      <td>0.0</td>\n",
       "      <td>...</td>\n",
       "      <td>0.0</td>\n",
       "      <td>0.0</td>\n",
       "      <td>0.0</td>\n",
       "      <td>0.0</td>\n",
       "      <td>0.0</td>\n",
       "      <td>0.0</td>\n",
       "      <td>0.0</td>\n",
       "      <td>0.0</td>\n",
       "      <td>0.0</td>\n",
       "      <td>2014</td>\n",
       "    </tr>\n",
       "    <tr>\n",
       "      <th>237805</th>\n",
       "      <td>12</td>\n",
       "      <td>203068</td>\n",
       "      <td>0.0</td>\n",
       "      <td>수험서 자격증</td>\n",
       "      <td>0.0</td>\n",
       "      <td>0.0</td>\n",
       "      <td>0.0</td>\n",
       "      <td>0.0</td>\n",
       "      <td>0.0</td>\n",
       "      <td>0.0</td>\n",
       "      <td>...</td>\n",
       "      <td>0.0</td>\n",
       "      <td>0.0</td>\n",
       "      <td>0.0</td>\n",
       "      <td>0.0</td>\n",
       "      <td>0.0</td>\n",
       "      <td>0.0</td>\n",
       "      <td>0.0</td>\n",
       "      <td>0.0</td>\n",
       "      <td>0.0</td>\n",
       "      <td>2014</td>\n",
       "    </tr>\n",
       "    <tr>\n",
       "      <th>237806</th>\n",
       "      <td>12</td>\n",
       "      <td>203076</td>\n",
       "      <td>0.0</td>\n",
       "      <td>사회 정치</td>\n",
       "      <td>0.0</td>\n",
       "      <td>0.0</td>\n",
       "      <td>0.0</td>\n",
       "      <td>0.0</td>\n",
       "      <td>0.0</td>\n",
       "      <td>0.0</td>\n",
       "      <td>...</td>\n",
       "      <td>0.0</td>\n",
       "      <td>0.0</td>\n",
       "      <td>0.0</td>\n",
       "      <td>0.0</td>\n",
       "      <td>0.0</td>\n",
       "      <td>0.0</td>\n",
       "      <td>0.0</td>\n",
       "      <td>0.0</td>\n",
       "      <td>0.0</td>\n",
       "      <td>2014</td>\n",
       "    </tr>\n",
       "  </tbody>\n",
       "</table>\n",
       "<p>154603 rows × 26 columns</p>\n",
       "</div>"
      ],
      "text/plain": [
       "        month  item_id  item_cnt_month   category  item_cnt_month_lag_1  \\\n",
       "83204       5   100000             1.0         잡지                   0.0   \n",
       "83205       5   100004             1.0         전집                   0.0   \n",
       "83206       5   100030             1.0         잡지                   0.0   \n",
       "83207       5   100038             1.0        청소년                   0.0   \n",
       "83208       5   100040             1.0     중고등학습서                   0.0   \n",
       "...       ...      ...             ...        ...                   ...   \n",
       "237802     12   203058             0.0     중고등학습서                   0.0   \n",
       "237803     12   203061             0.0     IT 모바일                   0.0   \n",
       "237804     12   203065             0.0  국어 외국어 사전                   0.0   \n",
       "237805     12   203068             0.0    수험서 자격증                   0.0   \n",
       "237806     12   203076             0.0      사회 정치                   0.0   \n",
       "\n",
       "        item_cnt_month_lag_2  item_cnt_month_lag_3  item_cnt_month_lag_4  \\\n",
       "83204                    0.0                   0.0                   0.0   \n",
       "83205                    0.0                   0.0                   1.0   \n",
       "83206                    0.0                   0.0                   0.0   \n",
       "83207                    0.0                   0.0                   0.0   \n",
       "83208                    0.0                   0.0                   0.0   \n",
       "...                      ...                   ...                   ...   \n",
       "237802                   0.0                   0.0                   0.0   \n",
       "237803                   0.0                   0.0                   0.0   \n",
       "237804                   0.0                   0.0                   0.0   \n",
       "237805                   0.0                   0.0                   0.0   \n",
       "237806                   0.0                   0.0                   0.0   \n",
       "\n",
       "        month_item_avg_item_cnt_lag_1  month_item_avg_item_cnt_lag_2  ...  \\\n",
       "83204                             0.0                            0.0  ...   \n",
       "83205                             0.0                            0.0  ...   \n",
       "83206                             0.0                            0.0  ...   \n",
       "83207                             0.0                            0.0  ...   \n",
       "83208                             0.0                            0.0  ...   \n",
       "...                               ...                            ...  ...   \n",
       "237802                            0.0                            0.0  ...   \n",
       "237803                            0.0                            0.0  ...   \n",
       "237804                            0.0                            0.0  ...   \n",
       "237805                            0.0                            0.0  ...   \n",
       "237806                            0.0                            0.0  ...   \n",
       "\n",
       "        cat_delta_cnt_lag  month_aut_avg_item_cnt_lag_1  \\\n",
       "83204                 0.0                           0.0   \n",
       "83205                 0.0                           0.0   \n",
       "83206                 0.0                           0.0   \n",
       "83207                 0.0                           0.0   \n",
       "83208                 0.0                           0.0   \n",
       "...                   ...                           ...   \n",
       "237802                0.0                           0.0   \n",
       "237803                0.0                           0.0   \n",
       "237804                0.0                           0.0   \n",
       "237805                0.0                           0.0   \n",
       "237806                0.0                           0.0   \n",
       "\n",
       "        month_aut_avg_item_cnt_lag_2  month_aut_avg_item_cnt_lag_3  \\\n",
       "83204                            0.0                           0.0   \n",
       "83205                            0.0                           0.0   \n",
       "83206                            0.0                           0.0   \n",
       "83207                            0.0                           0.0   \n",
       "83208                            0.0                           0.0   \n",
       "...                              ...                           ...   \n",
       "237802                           0.0                           0.0   \n",
       "237803                           0.0                           0.0   \n",
       "237804                           0.0                           0.0   \n",
       "237805                           0.0                           0.0   \n",
       "237806                           0.0                           0.0   \n",
       "\n",
       "        month_aut_avg_item_cnt_lag_4  month_pub_avg_item_cnt_lag_1  \\\n",
       "83204                            0.0                           0.0   \n",
       "83205                            1.0                           0.0   \n",
       "83206                            0.0                           0.0   \n",
       "83207                            0.0                           0.0   \n",
       "83208                            0.0                           0.0   \n",
       "...                              ...                           ...   \n",
       "237802                           0.0                           0.0   \n",
       "237803                           0.0                           0.0   \n",
       "237804                           0.0                           0.0   \n",
       "237805                           0.0                           0.0   \n",
       "237806                           0.0                           0.0   \n",
       "\n",
       "        month_pub_avg_item_cnt_lag_2  month_pub_avg_item_cnt_lag_3  \\\n",
       "83204                            0.0                           0.0   \n",
       "83205                            0.0                           0.0   \n",
       "83206                            0.0                           0.0   \n",
       "83207                            0.0                           0.0   \n",
       "83208                            0.0                           0.0   \n",
       "...                              ...                           ...   \n",
       "237802                           0.0                           0.0   \n",
       "237803                           0.0                           0.0   \n",
       "237804                           0.0                           0.0   \n",
       "237805                           0.0                           0.0   \n",
       "237806                           0.0                           0.0   \n",
       "\n",
       "        month_pub_avg_item_cnt_lag_4  pub_date_year  \n",
       "83204                            0.0           2014  \n",
       "83205                            1.0           2014  \n",
       "83206                            0.0           2014  \n",
       "83207                            0.0           2012  \n",
       "83208                            0.0           2014  \n",
       "...                              ...            ...  \n",
       "237802                           0.0           2014  \n",
       "237803                           0.0           2014  \n",
       "237804                           0.0           2014  \n",
       "237805                           0.0           2014  \n",
       "237806                           0.0           2014  \n",
       "\n",
       "[154603 rows x 26 columns]"
      ]
     },
     "execution_count": 21,
     "metadata": {},
     "output_type": "execute_result"
    }
   ],
   "source": [
    "df"
   ]
  },
  {
   "cell_type": "code",
   "execution_count": 22,
   "metadata": {},
   "outputs": [
    {
     "name": "stdout",
     "output_type": "stream",
     "text": [
      "<class 'pandas.core.frame.DataFrame'>\n",
      "Int64Index: 154603 entries, 83204 to 237806\n",
      "Data columns (total 26 columns):\n",
      " #   Column                         Non-Null Count   Dtype  \n",
      "---  ------                         --------------   -----  \n",
      " 0   month                          154603 non-null  int64  \n",
      " 1   item_id                        154603 non-null  int64  \n",
      " 2   item_cnt_month                 154603 non-null  float64\n",
      " 3   category                       154603 non-null  object \n",
      " 4   item_cnt_month_lag_1           154603 non-null  float64\n",
      " 5   item_cnt_month_lag_2           154603 non-null  float64\n",
      " 6   item_cnt_month_lag_3           154603 non-null  float64\n",
      " 7   item_cnt_month_lag_4           154603 non-null  float64\n",
      " 8   month_item_avg_item_cnt_lag_1  154603 non-null  float64\n",
      " 9   month_item_avg_item_cnt_lag_2  154603 non-null  float64\n",
      " 10  month_item_avg_item_cnt_lag_3  154603 non-null  float64\n",
      " 11  month_item_avg_item_cnt_lag_4  154603 non-null  float64\n",
      " 12  month_cat_avg_item_cnt_lag_1   154603 non-null  float64\n",
      " 13  month_cat_avg_item_cnt_lag_2   154603 non-null  float64\n",
      " 14  month_cat_avg_item_cnt_lag_3   154603 non-null  float64\n",
      " 15  month_cat_avg_item_cnt_lag_4   154603 non-null  float64\n",
      " 16  cat_delta_cnt_lag              154603 non-null  float16\n",
      " 17  month_aut_avg_item_cnt_lag_1   154603 non-null  float64\n",
      " 18  month_aut_avg_item_cnt_lag_2   154603 non-null  float64\n",
      " 19  month_aut_avg_item_cnt_lag_3   154603 non-null  float64\n",
      " 20  month_aut_avg_item_cnt_lag_4   154603 non-null  float64\n",
      " 21  month_pub_avg_item_cnt_lag_1   154603 non-null  float64\n",
      " 22  month_pub_avg_item_cnt_lag_2   154603 non-null  float64\n",
      " 23  month_pub_avg_item_cnt_lag_3   154603 non-null  float64\n",
      " 24  month_pub_avg_item_cnt_lag_4   154603 non-null  float64\n",
      " 25  pub_date_year                  154603 non-null  Int32  \n",
      "dtypes: Int32(1), float16(1), float64(21), int64(2), object(1)\n",
      "memory usage: 30.5+ MB\n"
     ]
    }
   ],
   "source": [
    "df.info()"
   ]
  },
  {
   "cell_type": "code",
   "execution_count": 23,
   "metadata": {
    "scrolled": true
   },
   "outputs": [],
   "source": [
    "# pickle 형태로 분석에 사용할 최종 데이터 저장\n",
    "\n",
    "df.to_pickle('../dat/feature_1.pkl')"
   ]
  },
  {
   "cell_type": "markdown",
   "metadata": {},
   "source": [
    "# END"
   ]
  }
 ],
 "metadata": {
  "kernelspec": {
   "display_name": "Python 3 (ipykernel)",
   "language": "python",
   "name": "python3"
  },
  "language_info": {
   "codemirror_mode": {
    "name": "ipython",
    "version": 3
   },
   "file_extension": ".py",
   "mimetype": "text/x-python",
   "name": "python",
   "nbconvert_exporter": "python",
   "pygments_lexer": "ipython3",
   "version": "3.9.7"
  }
 },
 "nbformat": 4,
 "nbformat_minor": 2
}
